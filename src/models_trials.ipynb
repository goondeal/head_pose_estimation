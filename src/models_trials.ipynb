{
 "cells": [
  {
   "cell_type": "code",
   "execution_count": 110,
   "metadata": {},
   "outputs": [],
   "source": [
    "import numpy as np\n",
    "import pandas as pd\n",
    "import matplotlib.pyplot as plt\n",
    "import cv2\n",
    "from math import sin, cos\n",
    "from sklearn.model_selection import train_test_split\n",
    "from sklearn.metrics import r2_score, mean_squared_error as mse\n",
    "\n",
    "np.random.seed(42)"
   ]
  },
  {
   "cell_type": "code",
   "execution_count": 97,
   "metadata": {},
   "outputs": [
    {
     "data": {
      "text/html": [
       "<div>\n",
       "<style scoped>\n",
       "    .dataframe tbody tr th:only-of-type {\n",
       "        vertical-align: middle;\n",
       "    }\n",
       "\n",
       "    .dataframe tbody tr th {\n",
       "        vertical-align: top;\n",
       "    }\n",
       "\n",
       "    .dataframe thead th {\n",
       "        text-align: right;\n",
       "    }\n",
       "</style>\n",
       "<table border=\"1\" class=\"dataframe\">\n",
       "  <thead>\n",
       "    <tr style=\"text-align: right;\">\n",
       "      <th></th>\n",
       "      <th>x1</th>\n",
       "      <th>x2</th>\n",
       "      <th>x3</th>\n",
       "      <th>x4</th>\n",
       "      <th>x5</th>\n",
       "      <th>x6</th>\n",
       "      <th>x7</th>\n",
       "      <th>x8</th>\n",
       "      <th>pitch</th>\n",
       "      <th>yaw</th>\n",
       "      <th>roll</th>\n",
       "    </tr>\n",
       "  </thead>\n",
       "  <tbody>\n",
       "    <tr>\n",
       "      <th>image00002</th>\n",
       "      <td>0.508591</td>\n",
       "      <td>0.239336</td>\n",
       "      <td>0.430168</td>\n",
       "      <td>0.252891</td>\n",
       "      <td>0.187046</td>\n",
       "      <td>0.383993</td>\n",
       "      <td>0.385302</td>\n",
       "      <td>0.306882</td>\n",
       "      <td>-0.399231</td>\n",
       "      <td>0.018227</td>\n",
       "      <td>0.085676</td>\n",
       "    </tr>\n",
       "    <tr>\n",
       "      <th>image00004</th>\n",
       "      <td>0.897473</td>\n",
       "      <td>0.463788</td>\n",
       "      <td>0.510713</td>\n",
       "      <td>0.311286</td>\n",
       "      <td>0.069614</td>\n",
       "      <td>0.529695</td>\n",
       "      <td>0.340960</td>\n",
       "      <td>0.559336</td>\n",
       "      <td>0.470065</td>\n",
       "      <td>1.189533</td>\n",
       "      <td>0.300959</td>\n",
       "    </tr>\n",
       "    <tr>\n",
       "      <th>image00008</th>\n",
       "      <td>0.604275</td>\n",
       "      <td>0.391871</td>\n",
       "      <td>0.264828</td>\n",
       "      <td>0.376344</td>\n",
       "      <td>0.250255</td>\n",
       "      <td>0.383493</td>\n",
       "      <td>0.438322</td>\n",
       "      <td>0.460450</td>\n",
       "      <td>-0.175379</td>\n",
       "      <td>0.299208</td>\n",
       "      <td>-0.373374</td>\n",
       "    </tr>\n",
       "    <tr>\n",
       "      <th>image00013</th>\n",
       "      <td>0.512615</td>\n",
       "      <td>0.467233</td>\n",
       "      <td>0.393340</td>\n",
       "      <td>0.199575</td>\n",
       "      <td>0.178440</td>\n",
       "      <td>0.432988</td>\n",
       "      <td>0.418808</td>\n",
       "      <td>0.567076</td>\n",
       "      <td>-0.026812</td>\n",
       "      <td>0.011965</td>\n",
       "      <td>-0.220662</td>\n",
       "    </tr>\n",
       "    <tr>\n",
       "      <th>image00014</th>\n",
       "      <td>0.561266</td>\n",
       "      <td>0.465798</td>\n",
       "      <td>0.482575</td>\n",
       "      <td>0.155688</td>\n",
       "      <td>0.183200</td>\n",
       "      <td>0.444852</td>\n",
       "      <td>0.445997</td>\n",
       "      <td>0.547594</td>\n",
       "      <td>0.057119</td>\n",
       "      <td>0.110732</td>\n",
       "      <td>-0.043283</td>\n",
       "    </tr>\n",
       "  </tbody>\n",
       "</table>\n",
       "</div>"
      ],
      "text/plain": [
       "                  x1        x2        x3  ...     pitch       yaw      roll\n",
       "image00002  0.508591  0.239336  0.430168  ... -0.399231  0.018227  0.085676\n",
       "image00004  0.897473  0.463788  0.510713  ...  0.470065  1.189533  0.300959\n",
       "image00008  0.604275  0.391871  0.264828  ... -0.175379  0.299208 -0.373374\n",
       "image00013  0.512615  0.467233  0.393340  ... -0.026812  0.011965 -0.220662\n",
       "image00014  0.561266  0.465798  0.482575  ...  0.057119  0.110732 -0.043283\n",
       "\n",
       "[5 rows x 11 columns]"
      ]
     },
     "execution_count": 97,
     "metadata": {},
     "output_type": "execute_result"
    }
   ],
   "source": [
    "df = pd.read_csv('../cleaned_data_mp.csv', index_col=0)\n",
    "df.head()"
   ]
  },
  {
   "cell_type": "code",
   "execution_count": 98,
   "metadata": {},
   "outputs": [
    {
     "name": "stdout",
     "output_type": "stream",
     "text": [
      "<class 'pandas.core.frame.DataFrame'>\n",
      "Index: 1835 entries, image00002 to image04375\n",
      "Data columns (total 11 columns):\n",
      " #   Column  Non-Null Count  Dtype  \n",
      "---  ------  --------------  -----  \n",
      " 0   x1      1835 non-null   float64\n",
      " 1   x2      1835 non-null   float64\n",
      " 2   x3      1835 non-null   float64\n",
      " 3   x4      1835 non-null   float64\n",
      " 4   x5      1835 non-null   float64\n",
      " 5   x6      1835 non-null   float64\n",
      " 6   x7      1835 non-null   float64\n",
      " 7   x8      1835 non-null   float64\n",
      " 8   pitch   1835 non-null   float64\n",
      " 9   yaw     1835 non-null   float64\n",
      " 10  roll    1835 non-null   float64\n",
      "dtypes: float64(11)\n",
      "memory usage: 172.0+ KB\n"
     ]
    }
   ],
   "source": [
    "df.info()"
   ]
  },
  {
   "cell_type": "code",
   "execution_count": 111,
   "metadata": {},
   "outputs": [],
   "source": [
    "# some util functions\n",
    "def split_x_y(data):\n",
    "    return data[:, :-3], data[:, -3:]\n",
    "\n",
    "def split_train_dev_x_y(df, train_size=0.9):\n",
    "    data_train, data_test = train_test_split(df, train_size=train_size)\n",
    "    X_train, Y_train = split_x_y(data_train.values)\n",
    "    X_dev, Y_dev = split_x_y(data_test.values)\n",
    "    return X_train, Y_train, X_dev, Y_dev \n",
    "\n",
    "def draw_axis(img, yaw, pitch, roll, tdx=None, tdy=None, size = 100):\n",
    "\n",
    "    if tdx != None and tdy != None:\n",
    "        tdx = tdx\n",
    "        tdy = tdy\n",
    "    else:\n",
    "        height, width = img.shape[:2]\n",
    "        tdx = width / 2\n",
    "        tdy = height / 2\n",
    "\n",
    "    # X-Axis pointing to right. drawn in red\n",
    "    x1 = size * (cos(yaw) * cos(roll)) + tdx\n",
    "    y1 = size * (cos(pitch) * sin(roll) + cos(roll) * sin(pitch) * sin(yaw)) + tdy\n",
    "\n",
    "    # Y-Axis | drawn in green\n",
    "    #        v\n",
    "    x2 = size * (-cos(yaw) * sin(roll)) + tdx\n",
    "    y2 = size * (cos(pitch) * cos(roll) - sin(pitch) * sin(yaw) * sin(roll)) + tdy\n",
    "\n",
    "    # Z-Axis (out of the screen) drawn in blue\n",
    "    x3 = size * (sin(yaw)) + tdx\n",
    "    y3 = size * (-cos(yaw) * sin(pitch)) + tdy\n",
    "\n",
    "    cv2.line(img, (int(tdx), int(tdy)), (int(x1),int(y1)),(0,0,255),3)\n",
    "    cv2.line(img, (int(tdx), int(tdy)), (int(x2),int(y2)),(0,255,0),3)\n",
    "    cv2.line(img, (int(tdx), int(tdy)), (int(x3),int(y3)),(255,0,0),2)\n",
    "\n",
    "    return img\n",
    "    \n",
    "# def show_image(path):\n",
    "#     capture = cv2.VideoCapture(path)\n",
    "#     ret, frame = capture.read()\n",
    "#     frame = cv2.cvtColor(frame, cv2.COLOR_BGR2RGB) # convert to RGB format for matplotlib\n",
    "#     landmarks, pitch, yaw, roll = read_mat(path)\n",
    "#     x,y = landmarks[0,32], landmarks[1,32]\n",
    "#     plt.imshow(draw_axis(frame,-yaw, pitch, roll, x, y))\n",
    "#     plt.show()\n",
    "#     capture.release()\n",
    "#     cv2.destroyAllWindows()\n",
    "    \n",
    "def try_model(X_train, Y_train, X_dev, Y_dev, model):\n",
    "    x_model = model.fit(X_train, Y_train)\n",
    "\n",
    "    print('\\nAccuracy on training set: ')\n",
    "    h = x_model.predict(X_train)\n",
    "    # print('model r2_score =', r2_score(Y_train , h))\n",
    "    print('model MSE =', mse(Y_train , h))\n",
    "\n",
    "    print('\\nAccuracy on dev set: ')\n",
    "    h = x_model.predict(X_dev)\n",
    "    print('model MSE =', mse(Y_dev, h))\n",
    "    \n",
    "\n",
    "\n",
    "def try_models(X_train, Y_train, X_dev, Y_dev, model):\n",
    "    pitch_model = model().fit(X_train, Y_train[:, 0])\n",
    "    yaw_model = model().fit(X_train, Y_train[:, 1])\n",
    "    roll_model = model().fit(X_train, Y_train[:, 2])\n",
    "\n",
    "    print('\\nAccuracy on training set: ')\n",
    "    h_pitch = pitch_model.predict(X_train)\n",
    "    h_yaw = yaw_model.predict(X_train)\n",
    "    h_roll = roll_model.predict(X_train)\n",
    "    print('Pitch r2_score =', r2_score(Y_train[:, 0] , h_pitch))\n",
    "    print('Yaw r2_score =', r2_score(Y_train[:, 1] , h_yaw))\n",
    "    print('Roll r2_score =', r2_score(Y_train[:, 2] , h_roll))\n",
    "\n",
    "    print('\\nAccuracy on dev set: ')\n",
    "    h_pitch = pitch_model.predict(X_dev)\n",
    "    h_yaw = yaw_model.predict(X_dev)\n",
    "    h_roll = roll_model.predict(X_dev)\n",
    "    print('Pitch r2_score =', r2_score(Y_dev[:, 0] , h_pitch))\n",
    "    print('Yaw r2_score =', r2_score(Y_dev[:, 1] , h_yaw))\n",
    "    print('Roll r2_score =', r2_score(Y_dev[:, 2] , h_roll))\n"
   ]
  },
  {
   "cell_type": "code",
   "execution_count": 100,
   "metadata": {},
   "outputs": [
    {
     "name": "stdout",
     "output_type": "stream",
     "text": [
      "\n",
      "Accuracy on training set: \n",
      "Pitch r2_score = 0.14461637715242082\n",
      "Yaw r2_score = 0.8165393589990336\n",
      "Roll r2_score = 0.29079946985660476\n",
      "\n",
      "Accuracy on dev set: \n",
      "Pitch r2_score = 0.5759115337505021\n",
      "Yaw r2_score = 0.8782557681210683\n",
      "Roll r2_score = 0.5777432133769598\n"
     ]
    }
   ],
   "source": [
    "from sklearn.linear_model import LinearRegression\n",
    "from sklearn.svm import SVR\n",
    "from sklearn.ensemble import RandomForestRegressor\n",
    "from xgboost import XGBRegressor\n",
    "\n",
    "# Try LinearRegression on 21pts df.\n",
    "X_train, Y_train, X_dev, Y_dev = split_train_dev_x_y(df, train_size=0.8)\n",
    "try_models(X_train, Y_train, X_dev, Y_dev, LinearRegression)"
   ]
  },
  {
   "cell_type": "code",
   "execution_count": 114,
   "metadata": {},
   "outputs": [
    {
     "name": "stdout",
     "output_type": "stream",
     "text": [
      "\n",
      "Accuracy on training set: \n",
      "model MSE = 0.021009019505625778\n",
      "\n",
      "Accuracy on dev set: \n",
      "model MSE = 0.046285005618846325\n"
     ]
    }
   ],
   "source": [
    "# try_model(X_train, Y_train[:, 0], X_dev, Y_dev[:, 0], model=SVR(C=100))\n",
    "# try_model(X_train, Y_train[:, 1], X_dev, Y_dev[:, 1], model=SVR(C=100))\n",
    "try_model(X_train, Y_train[:, 2], X_dev, Y_dev[:, 2], model=SVR(C=100))"
   ]
  },
  {
   "cell_type": "code",
   "execution_count": 108,
   "metadata": {},
   "outputs": [
    {
     "name": "stdout",
     "output_type": "stream",
     "text": [
      "\n",
      "Accuracy on training set: \n",
      "model r2_score = 0.5353536038456876\n",
      "\n",
      "Accuracy on dev set: \n",
      "model r2_score = -0.36202281493402544\n"
     ]
    }
   ],
   "source": [
    "# try_model(X_train, Y_train[:, 0], X_dev, Y_dev[:, 0], model=RandomForestRegressor(n_estimators=500, max_depth=6, min_samples_leaf=4))\n",
    "# try_model(X_train, Y_train[:, 1], X_dev, Y_dev[:, 1], model=RandomForestRegressor(n_estimators=100, max_depth=6, min_samples_leaf=4))\n",
    "try_model(X_train, Y_train[:, 2], X_dev, Y_dev[:, 2], model=RandomForestRegressor(n_estimators=500, max_depth=6, min_samples_leaf=4))"
   ]
  },
  {
   "cell_type": "code",
   "execution_count": 103,
   "metadata": {},
   "outputs": [
    {
     "name": "stdout",
     "output_type": "stream",
     "text": [
      "\n",
      "Accuracy on training set: \n",
      "model r2_score = 0.9996995218126943\n",
      "\n",
      "Accuracy on dev set: \n",
      "model r2_score = -5.580754316223929\n"
     ]
    }
   ],
   "source": [
    "from xgboost import XGBRegressor\n",
    "\n",
    "try_model(X_train, Y_train[:, 2], X_dev, Y_dev[:, 2],\n",
    "model=XGBRegressor(n_estimators=100, nthread=4))"
   ]
  },
  {
   "cell_type": "code",
   "execution_count": 109,
   "metadata": {},
   "outputs": [
    {
     "name": "stdout",
     "output_type": "stream",
     "text": [
      "\n",
      "Accuracy on training set: \n",
      "model r2_score = 0.9999948929962871\n",
      "\n",
      "Accuracy on dev set: \n",
      "model r2_score = -7.189166913332533\n"
     ]
    }
   ],
   "source": [
    "# try_model(X_train, Y_train[:, 0], X_dev, Y_dev[:, 0], model=XGBRegressor(n_estimators=5000, nthread=4))\n",
    "# try_model(X_train, Y_train[:, 1], X_dev, Y_dev[:, 1], model=XGBRegressor(n_estimators=50, nthread=4))\n",
    "# try_model(X_train, Y_train[:, 2], X_dev, Y_dev[:, 2], model=XGBRegressor(n_estimators=50, nthread=4))"
   ]
  },
  {
   "cell_type": "code",
   "execution_count": null,
   "metadata": {},
   "outputs": [],
   "source": []
  }
 ],
 "metadata": {
  "interpreter": {
   "hash": "916dbcbb3f70747c44a77c7bcd40155683ae19c65e1c03b4aa3499c5328201f1"
  },
  "kernelspec": {
   "display_name": "Python 3 (ipykernel)",
   "language": "python",
   "name": "python3"
  },
  "language_info": {
   "codemirror_mode": {
    "name": "ipython",
    "version": 3
   },
   "file_extension": ".py",
   "mimetype": "text/x-python",
   "name": "python",
   "nbconvert_exporter": "python",
   "pygments_lexer": "ipython3",
   "version": "3.8.10"
  }
 },
 "nbformat": 4,
 "nbformat_minor": 2
}
