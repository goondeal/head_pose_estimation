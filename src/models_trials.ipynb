{
 "cells": [
  {
   "cell_type": "code",
   "execution_count": 49,
   "metadata": {},
   "outputs": [],
   "source": [
    "import numpy as np\n",
    "import pandas as pd\n",
    "import matplotlib.pyplot as plt\n",
    "import cv2\n",
    "from math import sin, cos\n",
    "from sklearn.model_selection import train_test_split\n",
    "from sklearn.metrics import r2_score\n",
    "\n",
    "np.random.seed(42)"
   ]
  },
  {
   "cell_type": "code",
   "execution_count": 50,
   "metadata": {},
   "outputs": [
    {
     "data": {
      "text/html": [
       "<div>\n",
       "<style scoped>\n",
       "    .dataframe tbody tr th:only-of-type {\n",
       "        vertical-align: middle;\n",
       "    }\n",
       "\n",
       "    .dataframe tbody tr th {\n",
       "        vertical-align: top;\n",
       "    }\n",
       "\n",
       "    .dataframe thead th {\n",
       "        text-align: right;\n",
       "    }\n",
       "</style>\n",
       "<table border=\"1\" class=\"dataframe\">\n",
       "  <thead>\n",
       "    <tr style=\"text-align: right;\">\n",
       "      <th></th>\n",
       "      <th>x2</th>\n",
       "      <th>x3</th>\n",
       "      <th>x4</th>\n",
       "      <th>x5</th>\n",
       "      <th>x6</th>\n",
       "      <th>y2</th>\n",
       "      <th>y3</th>\n",
       "      <th>y4</th>\n",
       "      <th>y5</th>\n",
       "      <th>y6</th>\n",
       "      <th>pitch</th>\n",
       "      <th>yaw</th>\n",
       "      <th>roll</th>\n",
       "    </tr>\n",
       "  </thead>\n",
       "  <tbody>\n",
       "    <tr>\n",
       "      <th>image00002</th>\n",
       "      <td>-0.117864</td>\n",
       "      <td>-0.660870</td>\n",
       "      <td>0.811568</td>\n",
       "      <td>-0.471326</td>\n",
       "      <td>0.388258</td>\n",
       "      <td>0.993030</td>\n",
       "      <td>-0.868580</td>\n",
       "      <td>-0.734130</td>\n",
       "      <td>0.247089</td>\n",
       "      <td>0.431947</td>\n",
       "      <td>-22.874239</td>\n",
       "      <td>1.044306</td>\n",
       "      <td>4.908885</td>\n",
       "    </tr>\n",
       "    <tr>\n",
       "      <th>image00004</th>\n",
       "      <td>0.244669</td>\n",
       "      <td>0.390942</td>\n",
       "      <td>0.818068</td>\n",
       "      <td>0.240005</td>\n",
       "      <td>0.475098</td>\n",
       "      <td>0.969607</td>\n",
       "      <td>-0.268480</td>\n",
       "      <td>-0.445271</td>\n",
       "      <td>0.578156</td>\n",
       "      <td>0.481578</td>\n",
       "      <td>26.932741</td>\n",
       "      <td>68.155235</td>\n",
       "      <td>17.243670</td>\n",
       "    </tr>\n",
       "    <tr>\n",
       "      <th>image00006</th>\n",
       "      <td>0.475943</td>\n",
       "      <td>0.029326</td>\n",
       "      <td>0.663393</td>\n",
       "      <td>0.186035</td>\n",
       "      <td>0.639567</td>\n",
       "      <td>0.879476</td>\n",
       "      <td>-0.389183</td>\n",
       "      <td>-0.480418</td>\n",
       "      <td>0.351012</td>\n",
       "      <td>0.307038</td>\n",
       "      <td>-10.579652</td>\n",
       "      <td>50.485409</td>\n",
       "      <td>-13.570644</td>\n",
       "    </tr>\n",
       "    <tr>\n",
       "      <th>image00008</th>\n",
       "      <td>0.545762</td>\n",
       "      <td>-0.534558</td>\n",
       "      <td>0.548172</td>\n",
       "      <td>-0.038727</td>\n",
       "      <td>0.562912</td>\n",
       "      <td>0.837940</td>\n",
       "      <td>-0.411924</td>\n",
       "      <td>-0.792250</td>\n",
       "      <td>0.351042</td>\n",
       "      <td>0.173244</td>\n",
       "      <td>-10.048455</td>\n",
       "      <td>17.143373</td>\n",
       "      <td>-21.392780</td>\n",
       "    </tr>\n",
       "    <tr>\n",
       "      <th>image00010</th>\n",
       "      <td>0.717417</td>\n",
       "      <td>0.251543</td>\n",
       "      <td>0.403701</td>\n",
       "      <td>0.469008</td>\n",
       "      <td>0.526977</td>\n",
       "      <td>0.696644</td>\n",
       "      <td>-0.364394</td>\n",
       "      <td>-0.518721</td>\n",
       "      <td>0.279280</td>\n",
       "      <td>0.265331</td>\n",
       "      <td>-50.544579</td>\n",
       "      <td>68.640549</td>\n",
       "      <td>-59.207973</td>\n",
       "    </tr>\n",
       "  </tbody>\n",
       "</table>\n",
       "</div>"
      ],
      "text/plain": [
       "                  x2        x3        x4        x5        x6        y2  \\\n",
       "image00002 -0.117864 -0.660870  0.811568 -0.471326  0.388258  0.993030   \n",
       "image00004  0.244669  0.390942  0.818068  0.240005  0.475098  0.969607   \n",
       "image00006  0.475943  0.029326  0.663393  0.186035  0.639567  0.879476   \n",
       "image00008  0.545762 -0.534558  0.548172 -0.038727  0.562912  0.837940   \n",
       "image00010  0.717417  0.251543  0.403701  0.469008  0.526977  0.696644   \n",
       "\n",
       "                  y3        y4        y5        y6      pitch        yaw  \\\n",
       "image00002 -0.868580 -0.734130  0.247089  0.431947 -22.874239   1.044306   \n",
       "image00004 -0.268480 -0.445271  0.578156  0.481578  26.932741  68.155235   \n",
       "image00006 -0.389183 -0.480418  0.351012  0.307038 -10.579652  50.485409   \n",
       "image00008 -0.411924 -0.792250  0.351042  0.173244 -10.048455  17.143373   \n",
       "image00010 -0.364394 -0.518721  0.279280  0.265331 -50.544579  68.640549   \n",
       "\n",
       "                 roll  \n",
       "image00002   4.908885  \n",
       "image00004  17.243670  \n",
       "image00006 -13.570644  \n",
       "image00008 -21.392780  \n",
       "image00010 -59.207973  "
      ]
     },
     "execution_count": 50,
     "metadata": {},
     "output_type": "execute_result"
    }
   ],
   "source": [
    "df_6pts = pd.read_csv('../cleaned_data_6pts.csv', index_col=0)\n",
    "df_6pts.head()"
   ]
  },
  {
   "cell_type": "code",
   "execution_count": 51,
   "metadata": {},
   "outputs": [
    {
     "name": "stdout",
     "output_type": "stream",
     "text": [
      "<class 'pandas.core.frame.DataFrame'>\n",
      "Index: 2000 entries, image00002 to image04375\n",
      "Data columns (total 13 columns):\n",
      " #   Column  Non-Null Count  Dtype  \n",
      "---  ------  --------------  -----  \n",
      " 0   x2      2000 non-null   float64\n",
      " 1   x3      2000 non-null   float64\n",
      " 2   x4      2000 non-null   float64\n",
      " 3   x5      2000 non-null   float64\n",
      " 4   x6      2000 non-null   float64\n",
      " 5   y2      2000 non-null   float64\n",
      " 6   y3      2000 non-null   float64\n",
      " 7   y4      2000 non-null   float64\n",
      " 8   y5      2000 non-null   float64\n",
      " 9   y6      2000 non-null   float64\n",
      " 10  pitch   2000 non-null   float64\n",
      " 11  yaw     2000 non-null   float64\n",
      " 12  roll    2000 non-null   float64\n",
      "dtypes: float64(13)\n",
      "memory usage: 218.8+ KB\n"
     ]
    }
   ],
   "source": [
    "df_6pts.info()"
   ]
  },
  {
   "cell_type": "code",
   "execution_count": null,
   "metadata": {},
   "outputs": [],
   "source": []
  },
  {
   "cell_type": "code",
   "execution_count": 52,
   "metadata": {},
   "outputs": [
    {
     "data": {
      "text/html": [
       "<div>\n",
       "<style scoped>\n",
       "    .dataframe tbody tr th:only-of-type {\n",
       "        vertical-align: middle;\n",
       "    }\n",
       "\n",
       "    .dataframe tbody tr th {\n",
       "        vertical-align: top;\n",
       "    }\n",
       "\n",
       "    .dataframe thead th {\n",
       "        text-align: right;\n",
       "    }\n",
       "</style>\n",
       "<table border=\"1\" class=\"dataframe\">\n",
       "  <thead>\n",
       "    <tr style=\"text-align: right;\">\n",
       "      <th></th>\n",
       "      <th>x1</th>\n",
       "      <th>x2</th>\n",
       "      <th>x3</th>\n",
       "      <th>x4</th>\n",
       "      <th>x5</th>\n",
       "      <th>x6</th>\n",
       "      <th>x7</th>\n",
       "      <th>x8</th>\n",
       "      <th>x9</th>\n",
       "      <th>x10</th>\n",
       "      <th>...</th>\n",
       "      <th>y13</th>\n",
       "      <th>y14</th>\n",
       "      <th>y15</th>\n",
       "      <th>y16</th>\n",
       "      <th>y17</th>\n",
       "      <th>y18</th>\n",
       "      <th>y19</th>\n",
       "      <th>pitch</th>\n",
       "      <th>yaw</th>\n",
       "      <th>roll</th>\n",
       "    </tr>\n",
       "  </thead>\n",
       "  <tbody>\n",
       "    <tr>\n",
       "      <th>image00002</th>\n",
       "      <td>-0.850815</td>\n",
       "      <td>-0.525609</td>\n",
       "      <td>-0.207266</td>\n",
       "      <td>0.387123</td>\n",
       "      <td>0.729734</td>\n",
       "      <td>1.045237</td>\n",
       "      <td>-0.660870</td>\n",
       "      <td>-0.250516</td>\n",
       "      <td>0.378241</td>\n",
       "      <td>0.811568</td>\n",
       "      <td>...</td>\n",
       "      <td>0.028274</td>\n",
       "      <td>0.247089</td>\n",
       "      <td>0.516972</td>\n",
       "      <td>0.431947</td>\n",
       "      <td>0.993030</td>\n",
       "      <td>-0.595580</td>\n",
       "      <td>-0.426537</td>\n",
       "      <td>-22.874239</td>\n",
       "      <td>1.044306</td>\n",
       "      <td>4.908885</td>\n",
       "    </tr>\n",
       "    <tr>\n",
       "      <th>image00008</th>\n",
       "      <td>-0.726478</td>\n",
       "      <td>-0.638846</td>\n",
       "      <td>-0.417195</td>\n",
       "      <td>0.070929</td>\n",
       "      <td>0.318399</td>\n",
       "      <td>0.667258</td>\n",
       "      <td>-0.534558</td>\n",
       "      <td>-0.258377</td>\n",
       "      <td>0.208870</td>\n",
       "      <td>0.548172</td>\n",
       "      <td>...</td>\n",
       "      <td>-0.006753</td>\n",
       "      <td>0.351042</td>\n",
       "      <td>0.387353</td>\n",
       "      <td>0.173244</td>\n",
       "      <td>0.837940</td>\n",
       "      <td>0.132924</td>\n",
       "      <td>-0.411059</td>\n",
       "      <td>-10.048455</td>\n",
       "      <td>17.143373</td>\n",
       "      <td>-21.392780</td>\n",
       "    </tr>\n",
       "    <tr>\n",
       "      <th>image00013</th>\n",
       "      <td>-0.744173</td>\n",
       "      <td>-0.531067</td>\n",
       "      <td>-0.296226</td>\n",
       "      <td>0.106902</td>\n",
       "      <td>0.320434</td>\n",
       "      <td>0.564352</td>\n",
       "      <td>-0.559372</td>\n",
       "      <td>-0.270364</td>\n",
       "      <td>0.152100</td>\n",
       "      <td>0.436802</td>\n",
       "      <td>...</td>\n",
       "      <td>0.087144</td>\n",
       "      <td>0.458676</td>\n",
       "      <td>0.409901</td>\n",
       "      <td>0.376901</td>\n",
       "      <td>0.969287</td>\n",
       "      <td>0.254301</td>\n",
       "      <td>-0.104537</td>\n",
       "      <td>-1.536199</td>\n",
       "      <td>0.685565</td>\n",
       "      <td>-12.643007</td>\n",
       "    </tr>\n",
       "    <tr>\n",
       "      <th>image00014</th>\n",
       "      <td>-0.580261</td>\n",
       "      <td>-0.392539</td>\n",
       "      <td>-0.178208</td>\n",
       "      <td>0.214201</td>\n",
       "      <td>0.437568</td>\n",
       "      <td>0.679277</td>\n",
       "      <td>-0.434251</td>\n",
       "      <td>-0.164927</td>\n",
       "      <td>0.238443</td>\n",
       "      <td>0.530147</td>\n",
       "      <td>...</td>\n",
       "      <td>0.106434</td>\n",
       "      <td>0.438146</td>\n",
       "      <td>0.424611</td>\n",
       "      <td>0.418824</td>\n",
       "      <td>0.996842</td>\n",
       "      <td>0.226685</td>\n",
       "      <td>0.170131</td>\n",
       "      <td>3.272690</td>\n",
       "      <td>6.344487</td>\n",
       "      <td>-2.479921</td>\n",
       "    </tr>\n",
       "    <tr>\n",
       "      <th>image00019</th>\n",
       "      <td>-0.604092</td>\n",
       "      <td>-0.399207</td>\n",
       "      <td>-0.189868</td>\n",
       "      <td>0.198747</td>\n",
       "      <td>0.407948</td>\n",
       "      <td>0.618262</td>\n",
       "      <td>-0.461436</td>\n",
       "      <td>-0.197175</td>\n",
       "      <td>0.199658</td>\n",
       "      <td>0.470176</td>\n",
       "      <td>...</td>\n",
       "      <td>0.153033</td>\n",
       "      <td>0.477280</td>\n",
       "      <td>0.432563</td>\n",
       "      <td>0.465106</td>\n",
       "      <td>0.999991</td>\n",
       "      <td>0.399566</td>\n",
       "      <td>0.379099</td>\n",
       "      <td>12.790051</td>\n",
       "      <td>1.287640</td>\n",
       "      <td>-0.390125</td>\n",
       "    </tr>\n",
       "  </tbody>\n",
       "</table>\n",
       "<p>5 rows × 39 columns</p>\n",
       "</div>"
      ],
      "text/plain": [
       "                  x1        x2        x3        x4        x5        x6  \\\n",
       "image00002 -0.850815 -0.525609 -0.207266  0.387123  0.729734  1.045237   \n",
       "image00008 -0.726478 -0.638846 -0.417195  0.070929  0.318399  0.667258   \n",
       "image00013 -0.744173 -0.531067 -0.296226  0.106902  0.320434  0.564352   \n",
       "image00014 -0.580261 -0.392539 -0.178208  0.214201  0.437568  0.679277   \n",
       "image00019 -0.604092 -0.399207 -0.189868  0.198747  0.407948  0.618262   \n",
       "\n",
       "                  x7        x8        x9       x10  ...       y13       y14  \\\n",
       "image00002 -0.660870 -0.250516  0.378241  0.811568  ...  0.028274  0.247089   \n",
       "image00008 -0.534558 -0.258377  0.208870  0.548172  ... -0.006753  0.351042   \n",
       "image00013 -0.559372 -0.270364  0.152100  0.436802  ...  0.087144  0.458676   \n",
       "image00014 -0.434251 -0.164927  0.238443  0.530147  ...  0.106434  0.438146   \n",
       "image00019 -0.461436 -0.197175  0.199658  0.470176  ...  0.153033  0.477280   \n",
       "\n",
       "                 y15       y16       y17       y18       y19      pitch  \\\n",
       "image00002  0.516972  0.431947  0.993030 -0.595580 -0.426537 -22.874239   \n",
       "image00008  0.387353  0.173244  0.837940  0.132924 -0.411059 -10.048455   \n",
       "image00013  0.409901  0.376901  0.969287  0.254301 -0.104537  -1.536199   \n",
       "image00014  0.424611  0.418824  0.996842  0.226685  0.170131   3.272690   \n",
       "image00019  0.432563  0.465106  0.999991  0.399566  0.379099  12.790051   \n",
       "\n",
       "                  yaw       roll  \n",
       "image00002   1.044306   4.908885  \n",
       "image00008  17.143373 -21.392780  \n",
       "image00013   0.685565 -12.643007  \n",
       "image00014   6.344487  -2.479921  \n",
       "image00019   1.287640  -0.390125  \n",
       "\n",
       "[5 rows x 39 columns]"
      ]
     },
     "execution_count": 52,
     "metadata": {},
     "output_type": "execute_result"
    }
   ],
   "source": [
    "df_21pts = pd.read_csv('../cleaned_data_21pts.csv', index_col=0)\n",
    "df_21pts.head()"
   ]
  },
  {
   "cell_type": "code",
   "execution_count": 53,
   "metadata": {},
   "outputs": [
    {
     "name": "stdout",
     "output_type": "stream",
     "text": [
      "<class 'pandas.core.frame.DataFrame'>\n",
      "Index: 1472 entries, image00002 to image04375\n",
      "Data columns (total 39 columns):\n",
      " #   Column  Non-Null Count  Dtype  \n",
      "---  ------  --------------  -----  \n",
      " 0   x1      1472 non-null   float64\n",
      " 1   x2      1472 non-null   float64\n",
      " 2   x3      1472 non-null   float64\n",
      " 3   x4      1472 non-null   float64\n",
      " 4   x5      1472 non-null   float64\n",
      " 5   x6      1472 non-null   float64\n",
      " 6   x7      1472 non-null   float64\n",
      " 7   x8      1472 non-null   float64\n",
      " 8   x9      1472 non-null   float64\n",
      " 9   x10     1472 non-null   float64\n",
      " 10  x11     1472 non-null   float64\n",
      " 11  x13     1472 non-null   float64\n",
      " 12  x14     1472 non-null   float64\n",
      " 13  x15     1472 non-null   float64\n",
      " 14  x16     1472 non-null   float64\n",
      " 15  x17     1472 non-null   float64\n",
      " 16  x18     1472 non-null   float64\n",
      " 17  x19     1472 non-null   float64\n",
      " 18  y1      1472 non-null   float64\n",
      " 19  y2      1472 non-null   float64\n",
      " 20  y3      1472 non-null   float64\n",
      " 21  y4      1472 non-null   float64\n",
      " 22  y5      1472 non-null   float64\n",
      " 23  y6      1472 non-null   float64\n",
      " 24  y7      1472 non-null   float64\n",
      " 25  y8      1472 non-null   float64\n",
      " 26  y9      1472 non-null   float64\n",
      " 27  y10     1472 non-null   float64\n",
      " 28  y11     1472 non-null   float64\n",
      " 29  y13     1472 non-null   float64\n",
      " 30  y14     1472 non-null   float64\n",
      " 31  y15     1472 non-null   float64\n",
      " 32  y16     1472 non-null   float64\n",
      " 33  y17     1472 non-null   float64\n",
      " 34  y18     1472 non-null   float64\n",
      " 35  y19     1472 non-null   float64\n",
      " 36  pitch   1472 non-null   float64\n",
      " 37  yaw     1472 non-null   float64\n",
      " 38  roll    1472 non-null   float64\n",
      "dtypes: float64(39)\n",
      "memory usage: 460.0+ KB\n"
     ]
    }
   ],
   "source": [
    "df_21pts.info()"
   ]
  },
  {
   "cell_type": "code",
   "execution_count": 54,
   "metadata": {},
   "outputs": [],
   "source": [
    "# some util functions\n",
    "def split_x_y(data):\n",
    "    return data[:, :-3], data[:, -3:]\n",
    "\n",
    "def split_train_dev_x_y(df, train_size=0.9):\n",
    "    data_train, data_test = train_test_split(df, train_size=train_size)\n",
    "    X_train, Y_train = split_x_y(data_train.values)\n",
    "    X_dev, Y_dev = split_x_y(data_test.values)\n",
    "    return X_train, Y_train, X_dev, Y_dev \n",
    "\n",
    "def draw_axis(img, yaw, pitch, roll, tdx=None, tdy=None, size = 100):\n",
    "\n",
    "    if tdx != None and tdy != None:\n",
    "        tdx = tdx\n",
    "        tdy = tdy\n",
    "    else:\n",
    "        height, width = img.shape[:2]\n",
    "        tdx = width / 2\n",
    "        tdy = height / 2\n",
    "\n",
    "    # X-Axis pointing to right. drawn in red\n",
    "    x1 = size * (cos(yaw) * cos(roll)) + tdx\n",
    "    y1 = size * (cos(pitch) * sin(roll) + cos(roll) * sin(pitch) * sin(yaw)) + tdy\n",
    "\n",
    "    # Y-Axis | drawn in green\n",
    "    #        v\n",
    "    x2 = size * (-cos(yaw) * sin(roll)) + tdx\n",
    "    y2 = size * (cos(pitch) * cos(roll) - sin(pitch) * sin(yaw) * sin(roll)) + tdy\n",
    "\n",
    "    # Z-Axis (out of the screen) drawn in blue\n",
    "    x3 = size * (sin(yaw)) + tdx\n",
    "    y3 = size * (-cos(yaw) * sin(pitch)) + tdy\n",
    "\n",
    "    cv2.line(img, (int(tdx), int(tdy)), (int(x1),int(y1)),(0,0,255),3)\n",
    "    cv2.line(img, (int(tdx), int(tdy)), (int(x2),int(y2)),(0,255,0),3)\n",
    "    cv2.line(img, (int(tdx), int(tdy)), (int(x3),int(y3)),(255,0,0),2)\n",
    "\n",
    "    return img\n",
    "    \n",
    "def show_image(path):\n",
    "    capture = cv2.VideoCapture(path)\n",
    "    ret, frame = capture.read()\n",
    "    frame = cv2.cvtColor(frame, cv2.COLOR_BGR2RGB) # convert to RGB format for matplotlib\n",
    "    landmarks, pitch, yaw, roll = read_mat(path)\n",
    "    x,y = landmarks[0,32], landmarks[1,32]\n",
    "    plt.imshow(draw_axis(frame,-yaw, pitch, roll, x, y))\n",
    "    plt.show()\n",
    "    capture.release()\n",
    "    cv2.destroyAllWindows()\n",
    "    \n",
    "def try_model(X_train, Y_train, X_dev, Y_dev, model):\n",
    "    x_model = model.fit(X_train, Y_train)\n",
    "\n",
    "    print('\\nAccuracy on training set: ')\n",
    "    h = x_model.predict(X_train)\n",
    "    print('model r2_score =', r2_score(Y_train , h))\n",
    "\n",
    "    print('\\nAccuracy on dev set: ')\n",
    "    h = x_model.predict(X_dev)\n",
    "    print('model r2_score =', r2_score(Y_dev, h))\n",
    "\n",
    "\n",
    "def try_models(X_train, Y_train, X_dev, Y_dev, model):\n",
    "    pitch_model = model().fit(X_train, Y_train[:, 0])\n",
    "    yaw_model = model().fit(X_train, Y_train[:, 1])\n",
    "    roll_model = model().fit(X_train, Y_train[:, 2])\n",
    "\n",
    "    print('\\nAccuracy on training set: ')\n",
    "    h_pitch = pitch_model.predict(X_train)\n",
    "    h_yaw = yaw_model.predict(X_train)\n",
    "    h_roll = roll_model.predict(X_train)\n",
    "    print('Pitch r2_score =', r2_score(Y_train[:, 0] , h_pitch))\n",
    "    print('Yaw r2_score =', r2_score(Y_train[:, 1] , h_yaw))\n",
    "    print('Roll r2_score =', r2_score(Y_train[:, 2] , h_roll))\n",
    "\n",
    "    print('\\nAccuracy on dev set: ')\n",
    "    h_pitch = pitch_model.predict(X_dev)\n",
    "    h_yaw = yaw_model.predict(X_dev)\n",
    "    h_roll = roll_model.predict(X_dev)\n",
    "    print('Pitch r2_score =', r2_score(Y_dev[:, 0] , h_pitch))\n",
    "    print('Yaw r2_score =', r2_score(Y_dev[:, 1] , h_yaw))\n",
    "    print('Roll r2_score =', r2_score(Y_dev[:, 2] , h_roll))\n"
   ]
  },
  {
   "cell_type": "code",
   "execution_count": 55,
   "metadata": {},
   "outputs": [
    {
     "name": "stdout",
     "output_type": "stream",
     "text": [
      "\n",
      "Accuracy on training set: \n",
      "Pitch r2_score = 0.28351379671854116\n",
      "Yaw r2_score = 0.9423150777785204\n",
      "Roll r2_score = 0.32406461198752445\n",
      "\n",
      "Accuracy on dev set: \n",
      "Pitch r2_score = -0.1876087648539888\n",
      "Yaw r2_score = 0.6141699816215083\n",
      "Roll r2_score = 0.1437779712699443\n"
     ]
    }
   ],
   "source": [
    "from sklearn.linear_model import ElasticNet, LinearRegression\n",
    "\n",
    "# Try LinearRegression on 6pts df.\n",
    "X_train, Y_train, X_dev, Y_dev = split_train_dev_x_y(df_6pts)\n",
    "try_models(X_train, Y_train, X_dev, Y_dev, LinearRegression)"
   ]
  },
  {
   "cell_type": "code",
   "execution_count": 56,
   "metadata": {},
   "outputs": [
    {
     "name": "stdout",
     "output_type": "stream",
     "text": [
      "\n",
      "Accuracy on training set: \n",
      "Pitch r2_score = 0.861502337793502\n",
      "Yaw r2_score = 0.9761183623828128\n",
      "Roll r2_score = 0.8942255325956457\n",
      "\n",
      "Accuracy on dev set: \n",
      "Pitch r2_score = 0.8776489191962301\n",
      "Yaw r2_score = 0.9766355675957605\n",
      "Roll r2_score = 0.8999507995428826\n"
     ]
    }
   ],
   "source": [
    "# Try LinearRegression on 21pts df.\n",
    "X_train, Y_train, X_dev, Y_dev = split_train_dev_x_y(df_21pts)\n",
    "try_models(X_train, Y_train, X_dev, Y_dev, LinearRegression)"
   ]
  },
  {
   "cell_type": "code",
   "execution_count": 57,
   "metadata": {},
   "outputs": [
    {
     "name": "stdout",
     "output_type": "stream",
     "text": [
      "\n",
      "Accuracy on training set: \n",
      "Pitch r2_score = 0.894068791693942\n",
      "Yaw r2_score = 0.9856638012978344\n",
      "Roll r2_score = 0.9198909849530442\n",
      "\n",
      "Accuracy on dev set: \n",
      "Pitch r2_score = 0.9110505771353729\n",
      "Yaw r2_score = 0.987221376707446\n",
      "Roll r2_score = 0.949841971989834\n"
     ]
    }
   ],
   "source": [
    "# Try LinearRegression on 68pts df.\n",
    "df_68pts = pd.read_csv('../cleaned_data_68pts.csv', index_col=0)\n",
    "X_train, Y_train, X_dev, Y_dev = split_train_dev_x_y(df_68pts)\n",
    "try_models(X_train, Y_train, X_dev, Y_dev, LinearRegression)"
   ]
  },
  {
   "cell_type": "code",
   "execution_count": 58,
   "metadata": {},
   "outputs": [
    {
     "name": "stdout",
     "output_type": "stream",
     "text": [
      "\n",
      "Accuracy on training set: \n",
      "Pitch r2_score = 0.02623276985355849\n",
      "Yaw r2_score = 0.5109731634313848\n",
      "Roll r2_score = 0.050332309846440104\n",
      "\n",
      "Accuracy on dev set: \n",
      "Pitch r2_score = 0.06078157421983388\n",
      "Yaw r2_score = 0.5465808246695903\n",
      "Roll r2_score = 0.1578616334912163\n"
     ]
    }
   ],
   "source": [
    "# Try ElasticNet on 6pts df.\n",
    "X_train, Y_train, X_dev, Y_dev = split_train_dev_x_y(df_6pts)\n",
    "try_models(X_train, Y_train, X_dev, Y_dev, ElasticNet)"
   ]
  },
  {
   "cell_type": "code",
   "execution_count": 59,
   "metadata": {},
   "outputs": [
    {
     "name": "stdout",
     "output_type": "stream",
     "text": [
      "\n",
      "Accuracy on training set: \n",
      "Pitch r2_score = 0.45893990005036156\n",
      "Yaw r2_score = 0.8200982724726353\n",
      "Roll r2_score = 0.478350572320947\n",
      "\n",
      "Accuracy on dev set: \n",
      "Pitch r2_score = 0.3960315922593186\n",
      "Yaw r2_score = 0.777142585990052\n",
      "Roll r2_score = 0.4081334357360289\n"
     ]
    }
   ],
   "source": [
    "# Try ElasticNet on 21pts df.\n",
    "X_train, Y_train, X_dev, Y_dev = split_train_dev_x_y(df_21pts)\n",
    "try_models(X_train, Y_train, X_dev, Y_dev, ElasticNet)"
   ]
  },
  {
   "cell_type": "code",
   "execution_count": 60,
   "metadata": {},
   "outputs": [
    {
     "name": "stdout",
     "output_type": "stream",
     "text": [
      "\n",
      "Accuracy on training set: \n",
      "model r2_score = 0.7599321579799306\n",
      "\n",
      "Accuracy on dev set: \n",
      "model r2_score = 0.6623254801163836\n"
     ]
    }
   ],
   "source": [
    "from sklearn.linear_model import Lasso\n",
    "from sklearn.preprocessing import PolynomialFeatures\n",
    "poly = PolynomialFeatures(2)\n",
    "Xt = poly.fit_transform(X_train)\n",
    "Xd = poly.fit_transform(X_dev)\n",
    "\n",
    "try_model(Xt, Y_train[:, 0], Xd, Y_dev[:, 0], model=Lasso())"
   ]
  },
  {
   "cell_type": "code",
   "execution_count": 61,
   "metadata": {},
   "outputs": [
    {
     "name": "stdout",
     "output_type": "stream",
     "text": [
      "\n",
      "Accuracy on training set: \n",
      "model r2_score = 0.9994876185256901\n",
      "\n",
      "Accuracy on dev set: \n",
      "model r2_score = 0.9795567125277846\n"
     ]
    }
   ],
   "source": [
    "from sklearn.ensemble import RandomForestRegressor\n",
    "try_model(X_train, Y_train[:, 1], X_dev, Y_dev[:, 1], model=RandomForestRegressor())\n",
    "# try_models(X_train, Y_train, X_dev, Y_dev, RandomForestRegressor)"
   ]
  },
  {
   "cell_type": "code",
   "execution_count": 62,
   "metadata": {},
   "outputs": [
    {
     "name": "stdout",
     "output_type": "stream",
     "text": [
      "\n",
      "Accuracy on training set: \n",
      "model r2_score = 0.9877542419936285\n",
      "\n",
      "Accuracy on dev set: \n",
      "model r2_score = 0.7290891861549333\n"
     ]
    }
   ],
   "source": [
    "from sklearn.svm import SVR\n",
    "try_model(X_train, Y_train[:, 0], X_dev, Y_dev[:, 0], model=RandomForestRegressor())\n",
    "# model_yaw = svm.SVR(C=15,epsilon=0.5).fit(X_train_yaw, y_train_yaw)"
   ]
  },
  {
   "cell_type": "code",
   "execution_count": 63,
   "metadata": {},
   "outputs": [
    {
     "name": "stdout",
     "output_type": "stream",
     "text": [
      "\n",
      "Accuracy on training set: \n",
      "model r2_score = 0.9736308152444212\n",
      "\n",
      "Accuracy on dev set: \n",
      "model r2_score = 0.5794034016875091\n"
     ]
    }
   ],
   "source": [
    "\n",
    "try_model(X_train, Y_train[:, 0], X_dev, Y_dev[:, 0], model=SVR(kernel='rbf', C=500, gamma=0.1, epsilon=.1))"
   ]
  },
  {
   "cell_type": "code",
   "execution_count": 64,
   "metadata": {},
   "outputs": [
    {
     "name": "stdout",
     "output_type": "stream",
     "text": [
      "\n",
      "Accuracy on training set: \n",
      "model r2_score = 0.9457436011824579\n",
      "\n",
      "Accuracy on dev set: \n",
      "model r2_score = 0.7726377055242643\n"
     ]
    }
   ],
   "source": [
    "from xgboost import XGBRegressor\n",
    "\n",
    "try_model(X_train, Y_train[:, 2], X_dev, Y_dev[:, 2],\n",
    "model=XGBRegressor(n_estimators=2048, learning_rate=0.005, min_child_weight=110, max_leaves=10, subsample=0.8, colsample_bytree=1, nthread=4))"
   ]
  },
  {
   "cell_type": "code",
   "execution_count": 65,
   "metadata": {},
   "outputs": [
    {
     "name": "stdout",
     "output_type": "stream",
     "text": [
      "\n",
      "Accuracy on training set: \n",
      "model r2_score = 0.98463905392077\n",
      "\n",
      "Accuracy on dev set: \n",
      "model r2_score = 0.40371466685192126\n"
     ]
    }
   ],
   "source": [
    "try_model(X_train, Y_train[:, 2], X_dev, Y_dev[:, 2], model=SVR(kernel='rbf', C=1000, gamma=0.1, epsilon=.1))"
   ]
  },
  {
   "cell_type": "code",
   "execution_count": 66,
   "metadata": {},
   "outputs": [
    {
     "name": "stdout",
     "output_type": "stream",
     "text": [
      "\n",
      "Accuracy on training set: \n",
      "model r2_score = 0.9945350804324715\n",
      "\n",
      "Accuracy on dev set: \n",
      "model r2_score = 0.723278695691159\n"
     ]
    }
   ],
   "source": [
    "try_model(X_train, Y_train[:, 2], X_dev, Y_dev[:, 2], model=RandomForestRegressor(n_estimators=500, max_depth=12))"
   ]
  },
  {
   "cell_type": "code",
   "execution_count": 67,
   "metadata": {},
   "outputs": [
    {
     "name": "stdout",
     "output_type": "stream",
     "text": [
      "\n",
      "Accuracy on training set: \n",
      "model r2_score = 0.9850727629720556\n",
      "\n",
      "Accuracy on dev set: \n",
      "model r2_score = 0.38492658528428947\n"
     ]
    }
   ],
   "source": [
    "try_model(X_train, Y_train[:, 2], X_dev, Y_dev[:, 2], model=SVR(C=1200, gamma=0.1))"
   ]
  },
  {
   "cell_type": "code",
   "execution_count": 68,
   "metadata": {},
   "outputs": [
    {
     "name": "stdout",
     "output_type": "stream",
     "text": [
      "\n",
      "Accuracy on training set: \n",
      "model r2_score = 0.9904298894307343\n",
      "\n",
      "Accuracy on dev set: \n",
      "model r2_score = 0.988199017429067\n"
     ]
    }
   ],
   "source": [
    "X_train, Y_train, X_dev, Y_dev = split_train_dev_x_y(df_68pts)\n",
    "try_model(X_train, Y_train[:, 2], X_dev, Y_dev[:, 2], model=SVR(C=500, gamma=0.1))"
   ]
  },
  {
   "cell_type": "code",
   "execution_count": 69,
   "metadata": {},
   "outputs": [
    {
     "name": "stdout",
     "output_type": "stream",
     "text": [
      "\n",
      "Accuracy on training set: \n",
      "model r2_score = 0.9962494678373472\n",
      "\n",
      "Accuracy on dev set: \n",
      "model r2_score = 0.9837304751071977\n"
     ]
    }
   ],
   "source": [
    "try_model(X_train, Y_train[:, 2], X_dev, Y_dev[:, 2], model=SVR(C=1000, gamma=0.1))"
   ]
  },
  {
   "cell_type": "code",
   "execution_count": 70,
   "metadata": {},
   "outputs": [
    {
     "name": "stdout",
     "output_type": "stream",
     "text": [
      "\n",
      "Accuracy on training set: \n",
      "model r2_score = 0.9892536805960402\n",
      "\n",
      "Accuracy on dev set: \n",
      "model r2_score = 0.9733689201510095\n"
     ]
    }
   ],
   "source": [
    "try_model(X_train, Y_train[:, 2], X_dev, Y_dev[:, 2], model=RandomForestRegressor(n_estimators=500))"
   ]
  },
  {
   "cell_type": "code",
   "execution_count": 71,
   "metadata": {},
   "outputs": [
    {
     "name": "stdout",
     "output_type": "stream",
     "text": [
      "\n",
      "Accuracy on training set: \n",
      "model r2_score = 0.9999999975473125\n",
      "\n",
      "Accuracy on dev set: \n",
      "model r2_score = 0.9755452538092696\n"
     ]
    }
   ],
   "source": [
    "try_model(X_train, Y_train[:, 2], X_dev, Y_dev[:, 2], model=XGBRegressor(n_estimators=1000, nthread=4))"
   ]
  },
  {
   "cell_type": "code",
   "execution_count": 72,
   "metadata": {},
   "outputs": [
    {
     "name": "stdout",
     "output_type": "stream",
     "text": [
      "\n",
      "Accuracy on training set: \n",
      "model r2_score = 0.9994650907013221\n",
      "\n",
      "Accuracy on dev set: \n",
      "model r2_score = 0.9527896803821014\n"
     ]
    }
   ],
   "source": [
    "try_model(X_train, Y_train[:, 0], X_dev, Y_dev[:, 0], model=XGBRegressor(n_estimators=1000, nthread=4))"
   ]
  },
  {
   "cell_type": "code",
   "execution_count": 73,
   "metadata": {},
   "outputs": [
    {
     "name": "stdout",
     "output_type": "stream",
     "text": [
      "\n",
      "Accuracy on training set: \n",
      "model r2_score = 0.8923140344258399\n",
      "\n",
      "Accuracy on dev set: \n",
      "model r2_score = 0.9165254839404693\n"
     ]
    }
   ],
   "source": [
    "try_model(X_train, Y_train[:, 0], X_dev, Y_dev[:, 0], model=XGBRegressor(n_estimators=1000, nthread=4))"
   ]
  },
  {
   "cell_type": "code",
   "execution_count": 75,
   "metadata": {},
   "outputs": [
    {
     "name": "stdout",
     "output_type": "stream",
     "text": [
      "\n",
      "Accuracy on training set: \n",
      "model r2_score = 0.9999999975473125\n",
      "\n",
      "Accuracy on dev set: \n",
      "model r2_score = 0.9755452538092696\n"
     ]
    }
   ],
   "source": [
    "try_model(X_train, Y_train[:, 2], X_dev, Y_dev[:, 2], model=XGBRegressor(n_estimators=1000, nthread=4))"
   ]
  },
  {
   "cell_type": "code",
   "execution_count": 77,
   "metadata": {},
   "outputs": [
    {
     "name": "stdout",
     "output_type": "stream",
     "text": [
      "\n",
      "Accuracy on training set: \n",
      "Pitch r2_score = 0.9799688290851025\n",
      "Yaw r2_score = 0.9991345436194986\n",
      "Roll r2_score = 0.9913968180272252\n",
      "\n",
      "Accuracy on dev set: \n",
      "Pitch r2_score = 0.9534695038604919\n",
      "Yaw r2_score = 0.9964596825320904\n",
      "Roll r2_score = 0.9761647191387504\n"
     ]
    }
   ],
   "source": [
    "try_models(X_train, Y_train, X_dev, Y_dev, model=RandomForestRegressor)"
   ]
  },
  {
   "cell_type": "code",
   "execution_count": 78,
   "metadata": {},
   "outputs": [
    {
     "data": {
      "text/plain": [
       "14"
      ]
     },
     "execution_count": 78,
     "metadata": {},
     "output_type": "execute_result"
    }
   ],
   "source": []
  },
  {
   "cell_type": "code",
   "execution_count": null,
   "metadata": {},
   "outputs": [],
   "source": []
  }
 ],
 "metadata": {
  "interpreter": {
   "hash": "916dbcbb3f70747c44a77c7bcd40155683ae19c65e1c03b4aa3499c5328201f1"
  },
  "kernelspec": {
   "display_name": "Python 3 (ipykernel)",
   "language": "python",
   "name": "python3"
  },
  "language_info": {
   "codemirror_mode": {
    "name": "ipython",
    "version": 3
   },
   "file_extension": ".py",
   "mimetype": "text/x-python",
   "name": "python",
   "nbconvert_exporter": "python",
   "pygments_lexer": "ipython3",
   "version": "3.8.10"
  }
 },
 "nbformat": 4,
 "nbformat_minor": 2
}
