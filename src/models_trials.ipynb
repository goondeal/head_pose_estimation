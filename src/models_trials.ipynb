{
 "cells": [
  {
   "cell_type": "code",
   "execution_count": 30,
   "metadata": {},
   "outputs": [],
   "source": [
    "import numpy as np\n",
    "import pandas as pd\n",
    "import matplotlib.pyplot as plt\n",
    "import cv2\n",
    "from math import sin, cos\n",
    "from sklearn.model_selection import train_test_split\n",
    "from sklearn.metrics import r2_score\n",
    "\n",
    "np.random.seed(42)"
   ]
  },
  {
   "cell_type": "code",
   "execution_count": 31,
   "metadata": {},
   "outputs": [
    {
     "data": {
      "text/html": [
       "<div>\n",
       "<style scoped>\n",
       "    .dataframe tbody tr th:only-of-type {\n",
       "        vertical-align: middle;\n",
       "    }\n",
       "\n",
       "    .dataframe tbody tr th {\n",
       "        vertical-align: top;\n",
       "    }\n",
       "\n",
       "    .dataframe thead th {\n",
       "        text-align: right;\n",
       "    }\n",
       "</style>\n",
       "<table border=\"1\" class=\"dataframe\">\n",
       "  <thead>\n",
       "    <tr style=\"text-align: right;\">\n",
       "      <th></th>\n",
       "      <th>x2</th>\n",
       "      <th>x3</th>\n",
       "      <th>x4</th>\n",
       "      <th>x5</th>\n",
       "      <th>x6</th>\n",
       "      <th>y2</th>\n",
       "      <th>y3</th>\n",
       "      <th>y4</th>\n",
       "      <th>y5</th>\n",
       "      <th>y6</th>\n",
       "      <th>pitch</th>\n",
       "      <th>yaw</th>\n",
       "      <th>roll</th>\n",
       "    </tr>\n",
       "  </thead>\n",
       "  <tbody>\n",
       "    <tr>\n",
       "      <th>image00002</th>\n",
       "      <td>-0.117864</td>\n",
       "      <td>-0.660870</td>\n",
       "      <td>0.811568</td>\n",
       "      <td>-0.471326</td>\n",
       "      <td>0.388258</td>\n",
       "      <td>0.993030</td>\n",
       "      <td>-0.868580</td>\n",
       "      <td>-0.734130</td>\n",
       "      <td>0.247089</td>\n",
       "      <td>0.431947</td>\n",
       "      <td>-22.874239</td>\n",
       "      <td>1.044306</td>\n",
       "      <td>4.908885</td>\n",
       "    </tr>\n",
       "    <tr>\n",
       "      <th>image00004</th>\n",
       "      <td>0.244669</td>\n",
       "      <td>0.390942</td>\n",
       "      <td>0.818068</td>\n",
       "      <td>0.240005</td>\n",
       "      <td>0.475098</td>\n",
       "      <td>0.969607</td>\n",
       "      <td>-0.268480</td>\n",
       "      <td>-0.445271</td>\n",
       "      <td>0.578156</td>\n",
       "      <td>0.481578</td>\n",
       "      <td>26.932741</td>\n",
       "      <td>68.155235</td>\n",
       "      <td>17.243670</td>\n",
       "    </tr>\n",
       "    <tr>\n",
       "      <th>image00006</th>\n",
       "      <td>0.475943</td>\n",
       "      <td>0.029326</td>\n",
       "      <td>0.663393</td>\n",
       "      <td>0.186035</td>\n",
       "      <td>0.639567</td>\n",
       "      <td>0.879476</td>\n",
       "      <td>-0.389183</td>\n",
       "      <td>-0.480418</td>\n",
       "      <td>0.351012</td>\n",
       "      <td>0.307038</td>\n",
       "      <td>-10.579652</td>\n",
       "      <td>50.485409</td>\n",
       "      <td>-13.570644</td>\n",
       "    </tr>\n",
       "    <tr>\n",
       "      <th>image00008</th>\n",
       "      <td>0.545762</td>\n",
       "      <td>-0.534558</td>\n",
       "      <td>0.548172</td>\n",
       "      <td>-0.038727</td>\n",
       "      <td>0.562912</td>\n",
       "      <td>0.837940</td>\n",
       "      <td>-0.411924</td>\n",
       "      <td>-0.792250</td>\n",
       "      <td>0.351042</td>\n",
       "      <td>0.173244</td>\n",
       "      <td>-10.048455</td>\n",
       "      <td>17.143373</td>\n",
       "      <td>-21.392780</td>\n",
       "    </tr>\n",
       "    <tr>\n",
       "      <th>image00010</th>\n",
       "      <td>0.717417</td>\n",
       "      <td>0.251543</td>\n",
       "      <td>0.403701</td>\n",
       "      <td>0.469008</td>\n",
       "      <td>0.526977</td>\n",
       "      <td>0.696644</td>\n",
       "      <td>-0.364394</td>\n",
       "      <td>-0.518721</td>\n",
       "      <td>0.279280</td>\n",
       "      <td>0.265331</td>\n",
       "      <td>-50.544579</td>\n",
       "      <td>68.640549</td>\n",
       "      <td>-59.207973</td>\n",
       "    </tr>\n",
       "  </tbody>\n",
       "</table>\n",
       "</div>"
      ],
      "text/plain": [
       "                  x2        x3        x4        x5        x6        y2  \\\n",
       "image00002 -0.117864 -0.660870  0.811568 -0.471326  0.388258  0.993030   \n",
       "image00004  0.244669  0.390942  0.818068  0.240005  0.475098  0.969607   \n",
       "image00006  0.475943  0.029326  0.663393  0.186035  0.639567  0.879476   \n",
       "image00008  0.545762 -0.534558  0.548172 -0.038727  0.562912  0.837940   \n",
       "image00010  0.717417  0.251543  0.403701  0.469008  0.526977  0.696644   \n",
       "\n",
       "                  y3        y4        y5        y6      pitch        yaw  \\\n",
       "image00002 -0.868580 -0.734130  0.247089  0.431947 -22.874239   1.044306   \n",
       "image00004 -0.268480 -0.445271  0.578156  0.481578  26.932741  68.155235   \n",
       "image00006 -0.389183 -0.480418  0.351012  0.307038 -10.579652  50.485409   \n",
       "image00008 -0.411924 -0.792250  0.351042  0.173244 -10.048455  17.143373   \n",
       "image00010 -0.364394 -0.518721  0.279280  0.265331 -50.544579  68.640549   \n",
       "\n",
       "                 roll  \n",
       "image00002   4.908885  \n",
       "image00004  17.243670  \n",
       "image00006 -13.570644  \n",
       "image00008 -21.392780  \n",
       "image00010 -59.207973  "
      ]
     },
     "execution_count": 31,
     "metadata": {},
     "output_type": "execute_result"
    }
   ],
   "source": [
    "df_6pts = pd.read_csv('../cleaned_data_6pts.csv', index_col=0)\n",
    "df_6pts.head()"
   ]
  },
  {
   "cell_type": "code",
   "execution_count": 32,
   "metadata": {},
   "outputs": [
    {
     "name": "stdout",
     "output_type": "stream",
     "text": [
      "<class 'pandas.core.frame.DataFrame'>\n",
      "Index: 2000 entries, image00002 to image04375\n",
      "Data columns (total 13 columns):\n",
      " #   Column  Non-Null Count  Dtype  \n",
      "---  ------  --------------  -----  \n",
      " 0   x2      2000 non-null   float64\n",
      " 1   x3      2000 non-null   float64\n",
      " 2   x4      2000 non-null   float64\n",
      " 3   x5      2000 non-null   float64\n",
      " 4   x6      2000 non-null   float64\n",
      " 5   y2      2000 non-null   float64\n",
      " 6   y3      2000 non-null   float64\n",
      " 7   y4      2000 non-null   float64\n",
      " 8   y5      2000 non-null   float64\n",
      " 9   y6      2000 non-null   float64\n",
      " 10  pitch   2000 non-null   float64\n",
      " 11  yaw     2000 non-null   float64\n",
      " 12  roll    2000 non-null   float64\n",
      "dtypes: float64(13)\n",
      "memory usage: 218.8+ KB\n"
     ]
    }
   ],
   "source": [
    "df_6pts.info()"
   ]
  },
  {
   "cell_type": "code",
   "execution_count": null,
   "metadata": {},
   "outputs": [],
   "source": []
  },
  {
   "cell_type": "code",
   "execution_count": 33,
   "metadata": {},
   "outputs": [
    {
     "data": {
      "text/html": [
       "<div>\n",
       "<style scoped>\n",
       "    .dataframe tbody tr th:only-of-type {\n",
       "        vertical-align: middle;\n",
       "    }\n",
       "\n",
       "    .dataframe tbody tr th {\n",
       "        vertical-align: top;\n",
       "    }\n",
       "\n",
       "    .dataframe thead th {\n",
       "        text-align: right;\n",
       "    }\n",
       "</style>\n",
       "<table border=\"1\" class=\"dataframe\">\n",
       "  <thead>\n",
       "    <tr style=\"text-align: right;\">\n",
       "      <th></th>\n",
       "      <th>x1</th>\n",
       "      <th>x2</th>\n",
       "      <th>x3</th>\n",
       "      <th>x4</th>\n",
       "      <th>x5</th>\n",
       "      <th>x6</th>\n",
       "      <th>x7</th>\n",
       "      <th>x8</th>\n",
       "      <th>x9</th>\n",
       "      <th>x10</th>\n",
       "      <th>...</th>\n",
       "      <th>y13</th>\n",
       "      <th>y14</th>\n",
       "      <th>y15</th>\n",
       "      <th>y16</th>\n",
       "      <th>y17</th>\n",
       "      <th>y18</th>\n",
       "      <th>y19</th>\n",
       "      <th>pitch</th>\n",
       "      <th>yaw</th>\n",
       "      <th>roll</th>\n",
       "    </tr>\n",
       "  </thead>\n",
       "  <tbody>\n",
       "    <tr>\n",
       "      <th>image00002</th>\n",
       "      <td>-0.892009</td>\n",
       "      <td>-0.591090</td>\n",
       "      <td>-0.161206</td>\n",
       "      <td>0.354654</td>\n",
       "      <td>0.816779</td>\n",
       "      <td>1.171434</td>\n",
       "      <td>-0.655573</td>\n",
       "      <td>-0.182701</td>\n",
       "      <td>0.376148</td>\n",
       "      <td>0.870515</td>\n",
       "      <td>...</td>\n",
       "      <td>0.064483</td>\n",
       "      <td>0.290172</td>\n",
       "      <td>0.526608</td>\n",
       "      <td>0.397643</td>\n",
       "      <td>0.999480</td>\n",
       "      <td>-0.601837</td>\n",
       "      <td>-0.376148</td>\n",
       "      <td>-22.874239</td>\n",
       "      <td>1.044306</td>\n",
       "      <td>4.908885</td>\n",
       "    </tr>\n",
       "    <tr>\n",
       "      <th>image00004</th>\n",
       "      <td>-0.518030</td>\n",
       "      <td>-0.331539</td>\n",
       "      <td>-0.051803</td>\n",
       "      <td>0.341900</td>\n",
       "      <td>0.745964</td>\n",
       "      <td>1.150028</td>\n",
       "      <td>-0.383343</td>\n",
       "      <td>-0.041442</td>\n",
       "      <td>0.435146</td>\n",
       "      <td>0.849570</td>\n",
       "      <td>...</td>\n",
       "      <td>0.145049</td>\n",
       "      <td>0.414424</td>\n",
       "      <td>0.435146</td>\n",
       "      <td>0.497309</td>\n",
       "      <td>0.994618</td>\n",
       "      <td>0.000000</td>\n",
       "      <td>0.062164</td>\n",
       "      <td>26.932741</td>\n",
       "      <td>68.155235</td>\n",
       "      <td>17.243670</td>\n",
       "    </tr>\n",
       "    <tr>\n",
       "      <th>image00006</th>\n",
       "      <td>-0.171021</td>\n",
       "      <td>-0.171021</td>\n",
       "      <td>-0.020120</td>\n",
       "      <td>0.221321</td>\n",
       "      <td>0.523122</td>\n",
       "      <td>0.965763</td>\n",
       "      <td>-0.110660</td>\n",
       "      <td>0.090540</td>\n",
       "      <td>0.392341</td>\n",
       "      <td>0.724323</td>\n",
       "      <td>...</td>\n",
       "      <td>0.080480</td>\n",
       "      <td>0.352101</td>\n",
       "      <td>0.402401</td>\n",
       "      <td>0.331981</td>\n",
       "      <td>0.915463</td>\n",
       "      <td>-0.110660</td>\n",
       "      <td>-0.201201</td>\n",
       "      <td>-10.579652</td>\n",
       "      <td>50.485409</td>\n",
       "      <td>-13.570644</td>\n",
       "    </tr>\n",
       "    <tr>\n",
       "      <th>image00008</th>\n",
       "      <td>-0.697837</td>\n",
       "      <td>-0.634397</td>\n",
       "      <td>-0.338345</td>\n",
       "      <td>0.084586</td>\n",
       "      <td>0.496944</td>\n",
       "      <td>0.951595</td>\n",
       "      <td>-0.486371</td>\n",
       "      <td>-0.137453</td>\n",
       "      <td>0.274905</td>\n",
       "      <td>0.708410</td>\n",
       "      <td>...</td>\n",
       "      <td>-0.021147</td>\n",
       "      <td>0.285479</td>\n",
       "      <td>0.327772</td>\n",
       "      <td>0.126879</td>\n",
       "      <td>0.835289</td>\n",
       "      <td>-0.296052</td>\n",
       "      <td>-0.708410</td>\n",
       "      <td>-10.048455</td>\n",
       "      <td>17.143373</td>\n",
       "      <td>-21.392780</td>\n",
       "    </tr>\n",
       "    <tr>\n",
       "      <th>image00013</th>\n",
       "      <td>-0.753426</td>\n",
       "      <td>-0.541790</td>\n",
       "      <td>-0.245498</td>\n",
       "      <td>0.067724</td>\n",
       "      <td>0.364015</td>\n",
       "      <td>0.626444</td>\n",
       "      <td>-0.533324</td>\n",
       "      <td>-0.228567</td>\n",
       "      <td>0.152378</td>\n",
       "      <td>0.457135</td>\n",
       "      <td>...</td>\n",
       "      <td>0.076189</td>\n",
       "      <td>0.474066</td>\n",
       "      <td>0.414808</td>\n",
       "      <td>0.355549</td>\n",
       "      <td>0.973528</td>\n",
       "      <td>0.228567</td>\n",
       "      <td>-0.126982</td>\n",
       "      <td>-1.536199</td>\n",
       "      <td>0.685565</td>\n",
       "      <td>-12.643007</td>\n",
       "    </tr>\n",
       "  </tbody>\n",
       "</table>\n",
       "<p>5 rows × 39 columns</p>\n",
       "</div>"
      ],
      "text/plain": [
       "                  x1        x2        x3        x4        x5        x6  \\\n",
       "image00002 -0.892009 -0.591090 -0.161206  0.354654  0.816779  1.171434   \n",
       "image00004 -0.518030 -0.331539 -0.051803  0.341900  0.745964  1.150028   \n",
       "image00006 -0.171021 -0.171021 -0.020120  0.221321  0.523122  0.965763   \n",
       "image00008 -0.697837 -0.634397 -0.338345  0.084586  0.496944  0.951595   \n",
       "image00013 -0.753426 -0.541790 -0.245498  0.067724  0.364015  0.626444   \n",
       "\n",
       "                  x7        x8        x9       x10  ...       y13       y14  \\\n",
       "image00002 -0.655573 -0.182701  0.376148  0.870515  ...  0.064483  0.290172   \n",
       "image00004 -0.383343 -0.041442  0.435146  0.849570  ...  0.145049  0.414424   \n",
       "image00006 -0.110660  0.090540  0.392341  0.724323  ...  0.080480  0.352101   \n",
       "image00008 -0.486371 -0.137453  0.274905  0.708410  ... -0.021147  0.285479   \n",
       "image00013 -0.533324 -0.228567  0.152378  0.457135  ...  0.076189  0.474066   \n",
       "\n",
       "                 y15       y16       y17       y18       y19      pitch  \\\n",
       "image00002  0.526608  0.397643  0.999480 -0.601837 -0.376148 -22.874239   \n",
       "image00004  0.435146  0.497309  0.994618  0.000000  0.062164  26.932741   \n",
       "image00006  0.402401  0.331981  0.915463 -0.110660 -0.201201 -10.579652   \n",
       "image00008  0.327772  0.126879  0.835289 -0.296052 -0.708410 -10.048455   \n",
       "image00013  0.414808  0.355549  0.973528  0.228567 -0.126982  -1.536199   \n",
       "\n",
       "                  yaw       roll  \n",
       "image00002   1.044306   4.908885  \n",
       "image00004  68.155235  17.243670  \n",
       "image00006  50.485409 -13.570644  \n",
       "image00008  17.143373 -21.392780  \n",
       "image00013   0.685565 -12.643007  \n",
       "\n",
       "[5 rows x 39 columns]"
      ]
     },
     "execution_count": 33,
     "metadata": {},
     "output_type": "execute_result"
    }
   ],
   "source": [
    "df_21pts = pd.read_csv('../cleaned_data_21pts.csv', index_col=0)\n",
    "df_21pts.head()"
   ]
  },
  {
   "cell_type": "code",
   "execution_count": 34,
   "metadata": {},
   "outputs": [
    {
     "name": "stdout",
     "output_type": "stream",
     "text": [
      "<class 'pandas.core.frame.DataFrame'>\n",
      "Index: 1800 entries, image00002 to image04375\n",
      "Data columns (total 39 columns):\n",
      " #   Column  Non-Null Count  Dtype  \n",
      "---  ------  --------------  -----  \n",
      " 0   x1      1800 non-null   float64\n",
      " 1   x2      1800 non-null   float64\n",
      " 2   x3      1800 non-null   float64\n",
      " 3   x4      1800 non-null   float64\n",
      " 4   x5      1800 non-null   float64\n",
      " 5   x6      1800 non-null   float64\n",
      " 6   x7      1800 non-null   float64\n",
      " 7   x8      1800 non-null   float64\n",
      " 8   x9      1800 non-null   float64\n",
      " 9   x10     1800 non-null   float64\n",
      " 10  x11     1800 non-null   float64\n",
      " 11  x13     1800 non-null   float64\n",
      " 12  x14     1800 non-null   float64\n",
      " 13  x15     1800 non-null   float64\n",
      " 14  x16     1800 non-null   float64\n",
      " 15  x17     1800 non-null   float64\n",
      " 16  x18     1800 non-null   float64\n",
      " 17  x19     1800 non-null   float64\n",
      " 18  y1      1800 non-null   float64\n",
      " 19  y2      1800 non-null   float64\n",
      " 20  y3      1800 non-null   float64\n",
      " 21  y4      1800 non-null   float64\n",
      " 22  y5      1800 non-null   float64\n",
      " 23  y6      1800 non-null   float64\n",
      " 24  y7      1800 non-null   float64\n",
      " 25  y8      1800 non-null   float64\n",
      " 26  y9      1800 non-null   float64\n",
      " 27  y10     1800 non-null   float64\n",
      " 28  y11     1800 non-null   float64\n",
      " 29  y13     1800 non-null   float64\n",
      " 30  y14     1800 non-null   float64\n",
      " 31  y15     1800 non-null   float64\n",
      " 32  y16     1800 non-null   float64\n",
      " 33  y17     1800 non-null   float64\n",
      " 34  y18     1800 non-null   float64\n",
      " 35  y19     1800 non-null   float64\n",
      " 36  pitch   1800 non-null   float64\n",
      " 37  yaw     1800 non-null   float64\n",
      " 38  roll    1800 non-null   float64\n",
      "dtypes: float64(39)\n",
      "memory usage: 562.5+ KB\n"
     ]
    }
   ],
   "source": [
    "df_21pts.info()"
   ]
  },
  {
   "cell_type": "code",
   "execution_count": 35,
   "metadata": {},
   "outputs": [],
   "source": [
    "# some util functions\n",
    "def split_x_y(data):\n",
    "    return data[:, :-3], data[:, -3:]\n",
    "\n",
    "def split_train_dev_x_y(df, train_size=0.9):\n",
    "    data_train, data_test = train_test_split(df, train_size=train_size)\n",
    "    X_train, Y_train = split_x_y(data_train.values)\n",
    "    X_dev, Y_dev = split_x_y(data_test.values)\n",
    "    return X_train, Y_train, X_dev, Y_dev \n",
    "\n",
    "def draw_axis(img, yaw, pitch, roll, tdx=None, tdy=None, size = 100):\n",
    "\n",
    "    if tdx != None and tdy != None:\n",
    "        tdx = tdx\n",
    "        tdy = tdy\n",
    "    else:\n",
    "        height, width = img.shape[:2]\n",
    "        tdx = width / 2\n",
    "        tdy = height / 2\n",
    "\n",
    "    # X-Axis pointing to right. drawn in red\n",
    "    x1 = size * (cos(yaw) * cos(roll)) + tdx\n",
    "    y1 = size * (cos(pitch) * sin(roll) + cos(roll) * sin(pitch) * sin(yaw)) + tdy\n",
    "\n",
    "    # Y-Axis | drawn in green\n",
    "    #        v\n",
    "    x2 = size * (-cos(yaw) * sin(roll)) + tdx\n",
    "    y2 = size * (cos(pitch) * cos(roll) - sin(pitch) * sin(yaw) * sin(roll)) + tdy\n",
    "\n",
    "    # Z-Axis (out of the screen) drawn in blue\n",
    "    x3 = size * (sin(yaw)) + tdx\n",
    "    y3 = size * (-cos(yaw) * sin(pitch)) + tdy\n",
    "\n",
    "    cv2.line(img, (int(tdx), int(tdy)), (int(x1),int(y1)),(0,0,255),3)\n",
    "    cv2.line(img, (int(tdx), int(tdy)), (int(x2),int(y2)),(0,255,0),3)\n",
    "    cv2.line(img, (int(tdx), int(tdy)), (int(x3),int(y3)),(255,0,0),2)\n",
    "\n",
    "    return img\n",
    "    \n",
    "def show_image(path):\n",
    "    capture = cv2.VideoCapture(path)\n",
    "    ret, frame = capture.read()\n",
    "    frame = cv2.cvtColor(frame, cv2.COLOR_BGR2RGB) # convert to RGB format for matplotlib\n",
    "    landmarks, pitch, yaw, roll = read_mat(path)\n",
    "    x,y = landmarks[0,32], landmarks[1,32]\n",
    "    plt.imshow(draw_axis(frame,-yaw, pitch, roll, x, y))\n",
    "    plt.show()\n",
    "    capture.release()\n",
    "    cv2.destroyAllWindows()\n",
    "    \n",
    "def try_model(X_train, Y_train, X_dev, Y_dev, model):\n",
    "    x_model = model.fit(X_train, Y_train)\n",
    "\n",
    "    print('\\nAccuracy on training set: ')\n",
    "    h = x_model.predict(X_train)\n",
    "    print('model r2_score =', r2_score(Y_train , h))\n",
    "\n",
    "    print('\\nAccuracy on dev set: ')\n",
    "    h = x_model.predict(X_dev)\n",
    "    print('model r2_score =', r2_score(Y_dev, h))\n",
    "    \n",
    "\n",
    "\n",
    "def try_models(X_train, Y_train, X_dev, Y_dev, model):\n",
    "    pitch_model = model().fit(X_train, Y_train[:, 0])\n",
    "    yaw_model = model().fit(X_train, Y_train[:, 1])\n",
    "    roll_model = model().fit(X_train, Y_train[:, 2])\n",
    "\n",
    "    print('\\nAccuracy on training set: ')\n",
    "    h_pitch = pitch_model.predict(X_train)\n",
    "    h_yaw = yaw_model.predict(X_train)\n",
    "    h_roll = roll_model.predict(X_train)\n",
    "    print('Pitch r2_score =', r2_score(Y_train[:, 0] , h_pitch))\n",
    "    print('Yaw r2_score =', r2_score(Y_train[:, 1] , h_yaw))\n",
    "    print('Roll r2_score =', r2_score(Y_train[:, 2] , h_roll))\n",
    "\n",
    "    print('\\nAccuracy on dev set: ')\n",
    "    h_pitch = pitch_model.predict(X_dev)\n",
    "    h_yaw = yaw_model.predict(X_dev)\n",
    "    h_roll = roll_model.predict(X_dev)\n",
    "    print('Pitch r2_score =', r2_score(Y_dev[:, 0] , h_pitch))\n",
    "    print('Yaw r2_score =', r2_score(Y_dev[:, 1] , h_yaw))\n",
    "    print('Roll r2_score =', r2_score(Y_dev[:, 2] , h_roll))\n"
   ]
  },
  {
   "cell_type": "code",
   "execution_count": 36,
   "metadata": {},
   "outputs": [
    {
     "name": "stdout",
     "output_type": "stream",
     "text": [
      "\n",
      "Accuracy on training set: \n",
      "Pitch r2_score = 0.28351379671854116\n",
      "Yaw r2_score = 0.9423150777785204\n",
      "Roll r2_score = 0.32406461198752445\n",
      "\n",
      "Accuracy on dev set: \n",
      "Pitch r2_score = -0.1876087648539888\n",
      "Yaw r2_score = 0.6141699816215083\n",
      "Roll r2_score = 0.1437779712699443\n"
     ]
    }
   ],
   "source": [
    "from sklearn.linear_model import ElasticNet, LinearRegression\n",
    "\n",
    "# Try LinearRegression on 6pts df.\n",
    "X_train, Y_train, X_dev, Y_dev = split_train_dev_x_y(df_6pts)\n",
    "try_models(X_train, Y_train, X_dev, Y_dev, LinearRegression)"
   ]
  },
  {
   "cell_type": "code",
   "execution_count": 37,
   "metadata": {},
   "outputs": [
    {
     "name": "stdout",
     "output_type": "stream",
     "text": [
      "\n",
      "Accuracy on training set: \n",
      "Pitch r2_score = 0.5037605414915458\n",
      "Yaw r2_score = 0.8392873202724446\n",
      "Roll r2_score = 0.5226770926420237\n",
      "\n",
      "Accuracy on dev set: \n",
      "Pitch r2_score = 0.37187324531639476\n",
      "Yaw r2_score = 0.7968545685488386\n",
      "Roll r2_score = 0.5733875724741564\n"
     ]
    }
   ],
   "source": [
    "# Try LinearRegression on 21pts df.\n",
    "X_train, Y_train, X_dev, Y_dev = split_train_dev_x_y(df_21pts)\n",
    "try_models(X_train, Y_train, X_dev, Y_dev, LinearRegression)"
   ]
  },
  {
   "cell_type": "code",
   "execution_count": 38,
   "metadata": {},
   "outputs": [
    {
     "name": "stdout",
     "output_type": "stream",
     "text": [
      "\n",
      "Accuracy on training set: \n",
      "Pitch r2_score = 0.5394872016441633\n",
      "Yaw r2_score = 0.8675638086222618\n",
      "Roll r2_score = 0.5860197772803124\n",
      "\n",
      "Accuracy on dev set: \n",
      "Pitch r2_score = 0.5522229198476132\n",
      "Yaw r2_score = 0.8524641561738834\n",
      "Roll r2_score = 0.546873180773685\n"
     ]
    }
   ],
   "source": [
    "# Try LinearRegression on 68pts df.\n",
    "df_68pts = pd.read_csv('../cleaned_data_68pts.csv', index_col=0)\n",
    "X_train, Y_train, X_dev, Y_dev = split_train_dev_x_y(df_68pts)\n",
    "try_models(X_train, Y_train, X_dev, Y_dev, LinearRegression)"
   ]
  },
  {
   "cell_type": "code",
   "execution_count": 39,
   "metadata": {},
   "outputs": [
    {
     "name": "stdout",
     "output_type": "stream",
     "text": [
      "\n",
      "Accuracy on training set: \n",
      "Pitch r2_score = 0.026741195180699173\n",
      "Yaw r2_score = 0.5226871009960845\n",
      "Roll r2_score = 0.04947639580554519\n",
      "\n",
      "Accuracy on dev set: \n",
      "Pitch r2_score = 0.07402360573790823\n",
      "Yaw r2_score = 0.566414796672003\n",
      "Roll r2_score = 0.21765714069185793\n"
     ]
    }
   ],
   "source": [
    "# Try ElasticNet on 6pts df.\n",
    "X_train, Y_train, X_dev, Y_dev = split_train_dev_x_y(df_6pts)\n",
    "try_models(X_train, Y_train, X_dev, Y_dev, ElasticNet)"
   ]
  },
  {
   "cell_type": "code",
   "execution_count": 40,
   "metadata": {},
   "outputs": [
    {
     "name": "stdout",
     "output_type": "stream",
     "text": [
      "\n",
      "Accuracy on training set: \n",
      "Pitch r2_score = 0.21181140515448116\n",
      "Yaw r2_score = 0.6872983037088598\n",
      "Roll r2_score = 0.16491504879838526\n",
      "\n",
      "Accuracy on dev set: \n",
      "Pitch r2_score = 0.24549134716122678\n",
      "Yaw r2_score = 0.7022654187820283\n",
      "Roll r2_score = 0.21831346833166554\n"
     ]
    }
   ],
   "source": [
    "# Try ElasticNet on 21pts df.\n",
    "X_train, Y_train, X_dev, Y_dev = split_train_dev_x_y(df_21pts)\n",
    "try_models(X_train, Y_train, X_dev, Y_dev, ElasticNet)"
   ]
  },
  {
   "cell_type": "code",
   "execution_count": 41,
   "metadata": {},
   "outputs": [
    {
     "name": "stdout",
     "output_type": "stream",
     "text": [
      "\n",
      "Accuracy on training set: \n",
      "model r2_score = 0.33271674868290013\n",
      "\n",
      "Accuracy on dev set: \n",
      "model r2_score = 0.386277184757842\n"
     ]
    }
   ],
   "source": [
    "from sklearn.linear_model import Lasso\n",
    "from sklearn.preprocessing import PolynomialFeatures\n",
    "poly = PolynomialFeatures(2)\n",
    "Xt = poly.fit_transform(X_train)\n",
    "Xd = poly.fit_transform(X_dev)\n",
    "\n",
    "try_model(Xt, Y_train[:, 0], Xd, Y_dev[:, 0], model=Lasso())"
   ]
  },
  {
   "cell_type": "code",
   "execution_count": 42,
   "metadata": {},
   "outputs": [
    {
     "name": "stdout",
     "output_type": "stream",
     "text": [
      "\n",
      "Accuracy on training set: \n",
      "model r2_score = 0.977095414703898\n",
      "\n",
      "Accuracy on dev set: \n",
      "model r2_score = 0.878064887482764\n"
     ]
    }
   ],
   "source": [
    "from sklearn.ensemble import RandomForestRegressor\n",
    "try_model(X_train, Y_train[:, 1], X_dev, Y_dev[:, 1], model=RandomForestRegressor())\n",
    "# try_models(X_train, Y_train, X_dev, Y_dev, RandomForestRegressor)"
   ]
  },
  {
   "cell_type": "code",
   "execution_count": 43,
   "metadata": {},
   "outputs": [
    {
     "name": "stdout",
     "output_type": "stream",
     "text": [
      "\n",
      "Accuracy on training set: \n",
      "model r2_score = 0.916306402362981\n",
      "\n",
      "Accuracy on dev set: \n",
      "model r2_score = 0.5244652225654178\n"
     ]
    }
   ],
   "source": [
    "from sklearn.svm import SVR\n",
    "try_model(X_train, Y_train[:, 0], X_dev, Y_dev[:, 0], model=RandomForestRegressor())\n",
    "# model_yaw = svm.SVR(C=15,epsilon=0.5).fit(X_train_yaw, y_train_yaw)"
   ]
  },
  {
   "cell_type": "code",
   "execution_count": 44,
   "metadata": {},
   "outputs": [
    {
     "name": "stdout",
     "output_type": "stream",
     "text": [
      "\n",
      "Accuracy on training set: \n",
      "model r2_score = 0.5540700010684896\n",
      "\n",
      "Accuracy on dev set: \n",
      "model r2_score = 0.6109457871348627\n"
     ]
    }
   ],
   "source": [
    "\n",
    "try_model(X_train, Y_train[:, 0], X_dev, Y_dev[:, 0], model=SVR(kernel='rbf', C=500, gamma=0.1, epsilon=.1))"
   ]
  },
  {
   "cell_type": "code",
   "execution_count": 45,
   "metadata": {},
   "outputs": [
    {
     "name": "stdout",
     "output_type": "stream",
     "text": [
      "\n",
      "Accuracy on training set: \n",
      "model r2_score = 0.6337713266034631\n",
      "\n",
      "Accuracy on dev set: \n",
      "model r2_score = 0.752787779320455\n"
     ]
    }
   ],
   "source": [
    "from xgboost import XGBRegressor\n",
    "\n",
    "try_model(X_train, Y_train[:, 2], X_dev, Y_dev[:, 2],\n",
    "model=XGBRegressor(n_estimators=2048, learning_rate=0.005, min_child_weight=110, max_leaves=10, subsample=0.8, colsample_bytree=1, nthread=4))"
   ]
  },
  {
   "cell_type": "code",
   "execution_count": 46,
   "metadata": {},
   "outputs": [
    {
     "name": "stdout",
     "output_type": "stream",
     "text": [
      "\n",
      "Accuracy on training set: \n",
      "model r2_score = 0.5968286662989419\n",
      "\n",
      "Accuracy on dev set: \n",
      "model r2_score = 0.7781215415337548\n"
     ]
    }
   ],
   "source": [
    "try_model(X_train, Y_train[:, 2], X_dev, Y_dev[:, 2], model=SVR(kernel='rbf', C=1000, gamma=0.1, epsilon=.1))"
   ]
  },
  {
   "cell_type": "code",
   "execution_count": 47,
   "metadata": {},
   "outputs": [
    {
     "name": "stdout",
     "output_type": "stream",
     "text": [
      "\n",
      "Accuracy on training set: \n",
      "model r2_score = 0.9159461976906871\n",
      "\n",
      "Accuracy on dev set: \n",
      "model r2_score = 0.7632623459833289\n"
     ]
    }
   ],
   "source": [
    "try_model(X_train, Y_train[:, 2], X_dev, Y_dev[:, 2], model=RandomForestRegressor(n_estimators=500, max_depth=12))"
   ]
  },
  {
   "cell_type": "code",
   "execution_count": 48,
   "metadata": {},
   "outputs": [
    {
     "name": "stdout",
     "output_type": "stream",
     "text": [
      "\n",
      "Accuracy on training set: \n",
      "model r2_score = 0.6007003590059733\n",
      "\n",
      "Accuracy on dev set: \n",
      "model r2_score = 0.7785254568113608\n"
     ]
    }
   ],
   "source": [
    "try_model(X_train, Y_train[:, 2], X_dev, Y_dev[:, 2], model=SVR(C=1200, gamma=0.1))"
   ]
  },
  {
   "cell_type": "code",
   "execution_count": null,
   "metadata": {},
   "outputs": [],
   "source": [
    "try_models(X_train, Y_train, X_dev, Y_dev, model=RandomForestRegressor)"
   ]
  },
  {
   "cell_type": "code",
   "execution_count": 20,
   "metadata": {},
   "outputs": [
    {
     "name": "stdout",
     "output_type": "stream",
     "text": [
      "\n",
      "Accuracy on training set: \n",
      "model r2_score = 0.6766114215739087\n",
      "\n",
      "Accuracy on dev set: \n",
      "model r2_score = 0.5647437264294799\n"
     ]
    }
   ],
   "source": [
    "\n",
    "X_train, Y_train, X_dev, Y_dev = split_train_dev_x_y(df_68pts)\n",
    "try_model(X_train, Y_train[:, 2], X_dev, Y_dev[:, 2], model=SVR(C=500, gamma=0.1))"
   ]
  },
  {
   "cell_type": "code",
   "execution_count": 21,
   "metadata": {},
   "outputs": [
    {
     "name": "stdout",
     "output_type": "stream",
     "text": [
      "\n",
      "Accuracy on training set: \n",
      "model r2_score = 0.6992396919590419\n",
      "\n",
      "Accuracy on dev set: \n",
      "model r2_score = 0.573441596516544\n"
     ]
    }
   ],
   "source": [
    "try_model(X_train, Y_train[:, 2], X_dev, Y_dev[:, 2], model=SVR(C=1000, gamma=0.1))"
   ]
  },
  {
   "cell_type": "code",
   "execution_count": 22,
   "metadata": {},
   "outputs": [
    {
     "name": "stdout",
     "output_type": "stream",
     "text": [
      "\n",
      "Accuracy on training set: \n",
      "model r2_score = 0.9270992484254283\n",
      "\n",
      "Accuracy on dev set: \n",
      "model r2_score = 0.5510810452045278\n"
     ]
    }
   ],
   "source": [
    "try_model(X_train, Y_train[:, 2], X_dev, Y_dev[:, 2], model=RandomForestRegressor(n_estimators=500))"
   ]
  },
  {
   "cell_type": "code",
   "execution_count": 23,
   "metadata": {},
   "outputs": [
    {
     "name": "stdout",
     "output_type": "stream",
     "text": [
      "\n",
      "Accuracy on training set: \n",
      "model r2_score = 0.9999999986095761\n",
      "\n",
      "Accuracy on dev set: \n",
      "model r2_score = 0.5430565521611486\n"
     ]
    }
   ],
   "source": [
    "try_model(X_train, Y_train[:, 2], X_dev, Y_dev[:, 2], model=XGBRegressor(n_estimators=1000, nthread=4))"
   ]
  },
  {
   "cell_type": "code",
   "execution_count": 24,
   "metadata": {},
   "outputs": [
    {
     "name": "stdout",
     "output_type": "stream",
     "text": [
      "\n",
      "Accuracy on training set: \n",
      "model r2_score = 0.988654022208571\n",
      "\n",
      "Accuracy on dev set: \n",
      "model r2_score = 0.385555043723779\n"
     ]
    }
   ],
   "source": [
    "try_model(X_train, Y_train[:, 0], X_dev, Y_dev[:, 0], model=XGBRegressor(n_estimators=50, nthread=4))"
   ]
  },
  {
   "cell_type": "code",
   "execution_count": 28,
   "metadata": {},
   "outputs": [
    {
     "name": "stdout",
     "output_type": "stream",
     "text": [
      "\n",
      "Accuracy on training set: \n",
      "Pitch r2_score = 0.9260156834318661\n",
      "Yaw r2_score = 0.9791107991205222\n",
      "Roll r2_score = 0.9246976729526565\n",
      "\n",
      "Accuracy on dev set: \n",
      "Pitch r2_score = 0.42858121001041183\n",
      "Yaw r2_score = 0.8371013543253625\n",
      "Roll r2_score = 0.5612804569297615\n"
     ]
    }
   ],
   "source": [
    "try_models(X_train, Y_train, X_dev, Y_dev, model=RandomForestRegressor)"
   ]
  },
  {
   "cell_type": "code",
   "execution_count": null,
   "metadata": {},
   "outputs": [],
   "source": []
  },
  {
   "cell_type": "code",
   "execution_count": null,
   "metadata": {},
   "outputs": [],
   "source": []
  }
 ],
 "metadata": {
  "interpreter": {
   "hash": "916dbcbb3f70747c44a77c7bcd40155683ae19c65e1c03b4aa3499c5328201f1"
  },
  "kernelspec": {
   "display_name": "Python 3 (ipykernel)",
   "language": "python",
   "name": "python3"
  },
  "language_info": {
   "codemirror_mode": {
    "name": "ipython",
    "version": 3
   },
   "file_extension": ".py",
   "mimetype": "text/x-python",
   "name": "python",
   "nbconvert_exporter": "python",
   "pygments_lexer": "ipython3",
   "version": "3.8.10"
  }
 },
 "nbformat": 4,
 "nbformat_minor": 2
}
