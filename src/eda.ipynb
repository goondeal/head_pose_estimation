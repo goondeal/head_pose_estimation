{
 "cells": [
  {
   "cell_type": "code",
   "execution_count": 1,
   "metadata": {},
   "outputs": [],
   "source": [
    "import numpy as np\n",
    "import pandas as pd\n",
    "import matplotlib.pyplot as plt\n",
    "import scipy.io as sio\n",
    "import cv2\n",
    "import dlib\n",
    "import glob\n",
    "from pathlib import Path\n",
    "from imutils import face_utils"
   ]
  },
  {
   "cell_type": "code",
   "execution_count": 2,
   "metadata": {},
   "outputs": [
    {
     "name": "stdout",
     "output_type": "stream",
     "text": [
      "2000\n",
      "image01671\n",
      "image02453\n",
      "image04279\n",
      "image01751\n",
      "image04088\n",
      "image01850\n",
      "image00735\n",
      "image00167\n",
      "image02553\n",
      "image03665\n"
     ]
    }
   ],
   "source": [
    "mylist = [Path(f).stem for f in glob.glob(\"/home/ahmad/projects/python/head_pose_estimation/AFLW2000-3D/AFLW2000/*.mat\")]\n",
    "print(len(mylist))\n",
    "for i in mylist[:10]:\n",
    "    print(i)\n"
   ]
  },
  {
   "cell_type": "code",
   "execution_count": 3,
   "metadata": {},
   "outputs": [
    {
     "name": "stdout",
     "output_type": "stream",
     "text": [
      "<class 'dict'>\n"
     ]
    }
   ],
   "source": [
    "mat = sio.loadmat(\"/home/ahmad/projects/python/head_pose_estimation/AFLW2000-3D/AFLW2000/image01152.mat\")\n",
    "print(type(mat))"
   ]
  },
  {
   "cell_type": "code",
   "execution_count": 4,
   "metadata": {},
   "outputs": [
    {
     "name": "stdout",
     "output_type": "stream",
     "text": [
      "__header__\n",
      "__version__\n",
      "__globals__\n",
      "pt2d\n",
      "Illum_Para\n",
      "Color_Para\n",
      "Tex_Para\n",
      "Shape_Para\n",
      "Exp_Para\n",
      "Pose_Para\n",
      "roi\n",
      "pt3d_68\n"
     ]
    }
   ],
   "source": [
    "for k in mat.keys():\n",
    "    print(k)"
   ]
  },
  {
   "cell_type": "code",
   "execution_count": 5,
   "metadata": {},
   "outputs": [
    {
     "data": {
      "text/plain": [
       "numpy.ndarray"
      ]
     },
     "execution_count": 5,
     "metadata": {},
     "output_type": "execute_result"
    }
   ],
   "source": [
    "type(mat.get('pt2d'))"
   ]
  },
  {
   "cell_type": "code",
   "execution_count": 6,
   "metadata": {},
   "outputs": [
    {
     "data": {
      "text/plain": [
       "numpy.ndarray"
      ]
     },
     "execution_count": 6,
     "metadata": {},
     "output_type": "execute_result"
    }
   ],
   "source": [
    "type(mat.get('Pose_Para'))"
   ]
  },
  {
   "cell_type": "code",
   "execution_count": 7,
   "metadata": {},
   "outputs": [
    {
     "name": "stdout",
     "output_type": "stream",
     "text": [
      "(2, 21)\n",
      "(1, 7)\n"
     ]
    }
   ],
   "source": [
    "print(mat.get('pt2d').shape)\n",
    "print(mat.get('Pose_Para').shape)"
   ]
  },
  {
   "cell_type": "code",
   "execution_count": 8,
   "metadata": {},
   "outputs": [
    {
     "name": "stdout",
     "output_type": "stream",
     "text": [
      "[[137.95652174 157.52173913 199.44720497 258.14285714 286.0931677\n",
      "  311.2484472  157.52173913 174.29192547 205.03726708 263.73291925\n",
      "  286.0931677  314.04347826 132.36645963 193.85714286 221.80745342\n",
      "  244.16770186 330.8136646  185.47204969 224.60248447 263.73291925\n",
      "  219.01242236]\n",
      " [193.85714286 168.70186335 182.67701863 185.47204969 174.29192547\n",
      "  182.67701863 216.2173913  213.42236025 210.62732919 216.2173913\n",
      "  216.2173913  219.01242236 314.04347826 263.73291925 244.16770186\n",
      "  269.32298137 322.42857143 308.45341615 302.86335404 308.45341615\n",
      "  375.53416149]]\n",
      "[[ 2.7430168e-01  7.7798083e-02  3.2024056e-02  2.3919304e+02\n",
      "   1.6002512e+02 -1.2361505e+02  1.6468219e-03]]\n"
     ]
    }
   ],
   "source": [
    "print(mat.get('pt2d'))\n",
    "print(mat.get('Pose_Para'))"
   ]
  },
  {
   "cell_type": "code",
   "execution_count": 9,
   "metadata": {},
   "outputs": [
    {
     "data": {
      "text/plain": [
       "<matplotlib.collections.PathCollection at 0x7fe31aefd640>"
      ]
     },
     "execution_count": 9,
     "metadata": {},
     "output_type": "execute_result"
    },
    {
     "data": {
      "image/png": "[encoded data removed]",
      "text/plain": [
       "<Figure size 432x288 with 1 Axes>"
      ]
     },
     "metadata": {
      "needs_background": "light"
     },
     "output_type": "display_data"
    }
   ],
   "source": [
    "plt.scatter(mat.get('pt2d')[0], mat.get('pt2d')[1])"
   ]
  },
  {
   "cell_type": "code",
   "execution_count": 10,
   "metadata": {},
   "outputs": [
    {
     "data": {
      "text/plain": [
       "(0.07779808, 0.27430168, 0.032024056)"
      ]
     },
     "execution_count": 10,
     "metadata": {},
     "output_type": "execute_result"
    }
   ],
   "source": [
    "pitch, yaw, roll = mat.get('Pose_Para')[0, :3]\n",
    "yaw, pitch, roll"
   ]
  },
  {
   "cell_type": "code",
   "execution_count": 11,
   "metadata": {},
   "outputs": [
    {
     "data": {
      "text/plain": [
       "array([[ 124.14061  ,  126.804344 ,  134.16084  ,  140.71915  ,\n",
       "         148.98509  ,  160.07295  ,  171.57092  ,  188.9516   ,\n",
       "         222.21634  ,  258.45227  ,  283.05142  ,  300.30603  ,\n",
       "         315.42242  ,  325.5144   ,  334.16867  ,  344.1835   ,\n",
       "         349.19458  ,  139.8035   ,  150.36566  ,  165.76602  ,\n",
       "         181.9744   ,  196.81497  ,  256.77426  ,  272.74664  ,\n",
       "         289.99182  ,  307.92236  ,  320.91837  ,  226.2161   ,\n",
       "         224.64725  ,  223.01852  ,  222.20995  ,  204.58403  ,\n",
       "         212.31873  ,  223.08867  ,  234.96585  ,  244.1324   ,\n",
       "         157.44135  ,  167.0454   ,  182.56595  ,  197.07909  ,\n",
       "         183.45497  ,  167.5631   ,  260.0956   ,  277.4557   ,\n",
       "         293.61572  ,  302.93625  ,  292.02005  ,  274.3109   ,\n",
       "         180.32077  ,  192.83334  ,  211.3893   ,  221.61876  ,\n",
       "         232.29692  ,  250.8645   ,  264.93707  ,  248.8485   ,\n",
       "         235.07506  ,  220.68832  ,  207.17802  ,  194.84076  ,\n",
       "         184.22537  ,  208.29208  ,  221.06358  ,  233.99815  ,\n",
       "         261.76688  ,  234.11826  ,  220.78401  ,  208.16008  ],\n",
       "       [ 257.7826   ,  286.46597  ,  314.23242  ,  336.34048  ,\n",
       "         356.90057  ,  369.8589   ,  374.16083  ,  374.05438  ,\n",
       "         376.74323  ,  374.60526  ,  375.44653  ,  371.6881   ,\n",
       "         358.89496  ,  339.3412   ,  318.01425  ,  289.81946  ,\n",
       "         260.42383  ,  191.96567  ,  175.4656   ,  169.52606  ,\n",
       "         175.25635  ,  184.85797  ,  184.469    ,  176.28601  ,\n",
       "         172.32129  ,  178.26987  ,  194.66513  ,  204.39871  ,\n",
       "         218.03662  ,  231.67311  ,  244.69818  ,  267.99484  ,\n",
       "         267.6828   ,  268.52917  ,  267.31262  ,  266.96735  ,\n",
       "         213.8776   ,  202.52333  ,  202.77289  ,  212.62776  ,\n",
       "         215.3555   ,  217.29315  ,  213.10123  ,  201.99873  ,\n",
       "         203.41975  ,  214.53352  ,  215.8516   ,  214.84663  ,\n",
       "         309.59024  ,  293.18518  ,  282.5635   ,  283.34314  ,\n",
       "         282.224    ,  292.5028   ,  309.46826  ,  313.22186  ,\n",
       "         315.01282  ,  315.15076  ,  314.8026   ,  313.4911   ,\n",
       "         307.79947  ,  296.61078  ,  295.6433   ,  296.78027  ,\n",
       "         307.6352   ,  302.61954  ,  303.04398  ,  303.1499   ],\n",
       "       [-110.31761  ,  -96.67087  ,  -85.22942  ,  -73.16737  ,\n",
       "         -53.891876 ,  -24.597794 ,    9.625549 ,   43.471283 ,\n",
       "          59.3163   ,   48.978455 ,   19.285751 ,  -12.841827 ,\n",
       "         -39.838898 ,  -57.507225 ,  -68.33008  ,  -78.8893   ,\n",
       "         -91.89678  ,  -23.518723 ,   -6.6390915,    8.182556 ,\n",
       "          21.463013 ,   29.543793 ,   34.188812 ,   29.185013 ,\n",
       "          19.807648 ,    8.239334 ,   -6.592659 ,   44.17392  ,\n",
       "          61.98178  ,   81.17114  ,   89.898865 ,   57.946014 ,\n",
       "          66.114044 ,   70.76947  ,   67.017395 ,   59.661087 ,\n",
       "          -3.8319244,    8.614044 ,   10.531296 ,   10.509445 ,\n",
       "          13.772995 ,    8.432663 ,   15.988251 ,   19.035858 ,\n",
       "          17.364273 ,    8.02478  ,   18.747864 ,   21.702576 ,\n",
       "          41.516525 ,   64.12085  ,   75.85593  ,   78.512985 ,\n",
       "          77.76651  ,   69.913666 ,   51.55713  ,   67.62659  ,\n",
       "          75.12738  ,   75.990845 ,   71.96652  ,   60.90094  ,\n",
       "          43.925797 ,   71.12727  ,   75.314926 ,   73.93556  ,\n",
       "          53.17453  ,   70.86636  ,   71.86482  ,   67.1086   ]],\n",
       "      dtype=float32)"
      ]
     },
     "execution_count": 11,
     "metadata": {},
     "output_type": "execute_result"
    }
   ],
   "source": [
    "mat.get('pt3d_68')"
   ]
  },
  {
   "cell_type": "code",
   "execution_count": 12,
   "metadata": {},
   "outputs": [],
   "source": [
    "def decompose(A, k):\n",
    "    U, sigma, V = np.linalg.svd(A)\n",
    "    \n",
    "    U = np.matrix(U[:, :k])\n",
    "    D = np.diag(sigma[:k])\n",
    "    V = np.matrix(V[:k, :])\n",
    "    return U * D * V\n"
   ]
  },
  {
   "cell_type": "code",
   "execution_count": 13,
   "metadata": {},
   "outputs": [
    {
     "name": "stdout",
     "output_type": "stream",
     "text": [
      "i = 0 arr = (68, 2)\n"
     ]
    }
   ],
   "source": [
    "detector = dlib.get_frontal_face_detector()\n",
    "predictor = dlib.shape_predictor('/home/ahmad/projects/python/head_pose_estimation/data')\n",
    "img = 'image00002'\n",
    "p = f'/home/ahmad/projects/python/head_pose_estimation/AFLW2000-3D/AFLW2000/{img}.jpg'\n",
    "image = cv2.imread(p)\n",
    "# image = imutils.resize(image, width=500)\n",
    "gray = cv2.cvtColor(image, cv2.COLOR_BGR2GRAY)\n",
    "# detect faces in the grayscale image\n",
    "rects = detector(gray, 1)\n",
    "\n",
    "points = None\n",
    "# loop over the face detections\n",
    "for (i, rect) in enumerate(rects):\n",
    "    # determine the facial landmarks for the face region, then\n",
    "    # convert the facial landmark (x, y)-coordinates to a NumPy\n",
    "    # array\n",
    "    shape = predictor(gray, rect)\n",
    "    shape = face_utils.shape_to_np(shape)\n",
    "    points = shape.copy()\n",
    "    print('i =', i, 'arr =', shape.shape)\n",
    "    # convert dlib's rectangle to a OpenCV-style bounding box\n",
    "    # [i.e., (x, y, w, h)], then draw the face bounding box\n",
    "    # x, y, w, h = face_utils.rect_to_bb(rect)\n",
    "    # cv2.rectangle(image, (x, y), (x + w, y + h), (0, 255, 0), 2)\n",
    "    # # show the face number\n",
    "    # cv2.putText(image, \"Face #{}\".format(i + 1), (x - 10, y - 10),\n",
    "    #     cv2.FONT_HERSHEY_SIMPLEX, 0.5, (0, 255, 0), 2)\n",
    "    # loop over the (x, y)-coordinates for the facial landmarks\n",
    "    # and draw them on the image\n",
    "    for (x, y) in shape:\n",
    "        cv2.circle(image, (x, y), 1, (0, 0, 255), -1)\n",
    "        \n",
    "# show the output image with the face detections + facial landmarks\n",
    "# cv2.imshow(img, image)\n",
    "# cv2.waitKey(0)\n"
   ]
  },
  {
   "cell_type": "code",
   "execution_count": 14,
   "metadata": {},
   "outputs": [],
   "source": [
    "# tmp = np.zeros(shape=(image.shape[0], image.shape[1]))\n",
    "# for p in points:\n",
    "#     tmp[p[1], p[0]] = 255 \n",
    "\n",
    "# cv2.imshow(img, tmp)\n",
    "# for i in range(1, 102, 10):\n",
    "#     s = decompose(tmp, k=i)\n",
    "#     cv2.imshow(f'decomposed_k={i}', s)\n",
    "# cv2.waitKey(0)"
   ]
  },
  {
   "cell_type": "code",
   "execution_count": null,
   "metadata": {},
   "outputs": [],
   "source": []
  },
  {
   "cell_type": "code",
   "execution_count": null,
   "metadata": {},
   "outputs": [],
   "source": []
  },
  {
   "cell_type": "code",
   "execution_count": 15,
   "metadata": {},
   "outputs": [
    {
     "data": {
      "text/plain": [
       "array([[124.14061 , 126.804344, 134.16084 , 140.71915 , 148.98509 ,\n",
       "        160.07295 , 171.57092 , 188.9516  , 222.21634 , 258.45227 ,\n",
       "        283.05142 , 300.30603 , 315.42242 , 325.5144  , 334.16867 ,\n",
       "        344.1835  , 349.19458 , 139.8035  , 150.36566 , 165.76602 ,\n",
       "        181.9744  , 196.81497 , 256.77426 , 272.74664 , 289.99182 ,\n",
       "        307.92236 , 320.91837 , 226.2161  , 224.64725 , 223.01852 ,\n",
       "        222.20995 , 204.58403 , 212.31873 , 223.08867 , 234.96585 ,\n",
       "        244.1324  , 157.44135 , 167.0454  , 182.56595 , 197.07909 ,\n",
       "        183.45497 , 167.5631  , 260.0956  , 277.4557  , 293.61572 ,\n",
       "        302.93625 , 292.02005 , 274.3109  , 180.32077 , 192.83334 ,\n",
       "        211.3893  , 221.61876 , 232.29692 , 250.8645  , 264.93707 ,\n",
       "        248.8485  , 235.07506 , 220.68832 , 207.17802 , 194.84076 ,\n",
       "        184.22537 , 208.29208 , 221.06358 , 233.99815 , 261.76688 ,\n",
       "        234.11826 , 220.78401 , 208.16008 ],\n",
       "       [257.7826  , 286.46597 , 314.23242 , 336.34048 , 356.90057 ,\n",
       "        369.8589  , 374.16083 , 374.05438 , 376.74323 , 374.60526 ,\n",
       "        375.44653 , 371.6881  , 358.89496 , 339.3412  , 318.01425 ,\n",
       "        289.81946 , 260.42383 , 191.96567 , 175.4656  , 169.52606 ,\n",
       "        175.25635 , 184.85797 , 184.469   , 176.28601 , 172.32129 ,\n",
       "        178.26987 , 194.66513 , 204.39871 , 218.03662 , 231.67311 ,\n",
       "        244.69818 , 267.99484 , 267.6828  , 268.52917 , 267.31262 ,\n",
       "        266.96735 , 213.8776  , 202.52333 , 202.77289 , 212.62776 ,\n",
       "        215.3555  , 217.29315 , 213.10123 , 201.99873 , 203.41975 ,\n",
       "        214.53352 , 215.8516  , 214.84663 , 309.59024 , 293.18518 ,\n",
       "        282.5635  , 283.34314 , 282.224   , 292.5028  , 309.46826 ,\n",
       "        313.22186 , 315.01282 , 315.15076 , 314.8026  , 313.4911  ,\n",
       "        307.79947 , 296.61078 , 295.6433  , 296.78027 , 307.6352  ,\n",
       "        302.61954 , 303.04398 , 303.1499  ]], dtype=float32)"
      ]
     },
     "execution_count": 15,
     "metadata": {},
     "output_type": "execute_result"
    }
   ],
   "source": [
    "pts_68 = mat.get('pt3d_68')\n",
    "pts_68.shape\n",
    "pts_68[:2]"
   ]
  },
  {
   "cell_type": "code",
   "execution_count": 16,
   "metadata": {},
   "outputs": [
    {
     "data": {
      "image/png": "[encoded data removed]",
      "text/plain": [
       "<Figure size 432x288 with 1 Axes>"
      ]
     },
     "metadata": {
      "needs_background": "light"
     },
     "output_type": "display_data"
    },
    {
     "data": {
      "image/png": "[encoded data removed]",
      "text/plain": [
       "<Figure size 432x288 with 1 Axes>"
      ]
     },
     "metadata": {
      "needs_background": "light"
     },
     "output_type": "display_data"
    },
    {
     "data": {
      "image/png": "[encoded data removed]",
      "text/plain": [
       "<Figure size 432x288 with 1 Axes>"
      ]
     },
     "metadata": {
      "needs_background": "light"
     },
     "output_type": "display_data"
    }
   ],
   "source": [
    "pts_68_xy_6 = pts_68[:2, [30, 8, 36, 45, 48, 54]]\n",
    "pts_68_xy_21 = pts_68[:2, [17, 19, 21, 22, 24, 26, 36, 39, 42, 45]]\n",
    "pts_68_xy_6.shape\n",
    "\n",
    "plt.scatter(pts_68[0], pts_68[1])\n",
    "plt.xlim((0, 400))\n",
    "plt.ylim((100, 400))\n",
    "plt.show()\n",
    "\n",
    "plt.scatter(pts_68_xy_6[0], pts_68_xy_6[1])\n",
    "plt.xlim((0, 400))\n",
    "plt.ylim((100, 400))\n",
    "plt.show()\n",
    "\n",
    "plt.scatter(pts_68_xy_21[0], pts_68_xy_21[1])\n",
    "plt.xlim((0, 400))\n",
    "plt.ylim((100, 400))\n",
    "plt.show()"
   ]
  },
  {
   "cell_type": "code",
   "execution_count": 17,
   "metadata": {},
   "outputs": [
    {
     "data": {
      "image/png": "[encoded data removed]",
      "text/plain": [
       "<Figure size 432x288 with 1 Axes>"
      ]
     },
     "metadata": {
      "needs_background": "light"
     },
     "output_type": "display_data"
    },
    {
     "data": {
      "image/png": "[encoded data removed]",
      "text/plain": [
       "<Figure size 432x288 with 1 Axes>"
      ]
     },
     "metadata": {
      "needs_background": "light"
     },
     "output_type": "display_data"
    },
    {
     "data": {
      "image/png": "[encoded data removed]",
      "text/plain": [
       "<Figure size 432x288 with 1 Axes>"
      ]
     },
     "metadata": {
      "needs_background": "light"
     },
     "output_type": "display_data"
    },
    {
     "data": {
      "image/png": "[encoded data removed]",
      "text/plain": [
       "<Figure size 432x288 with 1 Axes>"
      ]
     },
     "metadata": {
      "needs_background": "light"
     },
     "output_type": "display_data"
    },
    {
     "data": {
      "image/png": "[encoded data removed]",
      "text/plain": [
       "<Figure size 432x288 with 1 Axes>"
      ]
     },
     "metadata": {
      "needs_background": "light"
     },
     "output_type": "display_data"
    },
    {
     "data": {
      "image/png": "[encoded data removed]",
      "text/plain": [
       "<Figure size 432x288 with 1 Axes>"
      ]
     },
     "metadata": {
      "needs_background": "light"
     },
     "output_type": "display_data"
    },
    {
     "data": {
      "image/png": "[encoded data removed]",
      "text/plain": [
       "<Figure size 432x288 with 1 Axes>"
      ]
     },
     "metadata": {
      "needs_background": "light"
     },
     "output_type": "display_data"
    },
    {
     "data": {
      "image/png": "[encoded data removed]",
      "text/plain": [
       "<Figure size 432x288 with 1 Axes>"
      ]
     },
     "metadata": {
      "needs_background": "light"
     },
     "output_type": "display_data"
    },
    {
     "data": {
      "image/png": "[encoded data removed]",
      "text/plain": [
       "<Figure size 432x288 with 1 Axes>"
      ]
     },
     "metadata": {
      "needs_background": "light"
     },
     "output_type": "display_data"
    },
    {
     "data": {
      "image/png": "[encoded data removed]",
      "text/plain": [
       "<Figure size 432x288 with 1 Axes>"
      ]
     },
     "metadata": {
      "needs_background": "light"
     },
     "output_type": "display_data"
    },
    {
     "data": {
      "image/png": "[encoded data removed]",
      "text/plain": [
       "<Figure size 432x288 with 1 Axes>"
      ]
     },
     "metadata": {
      "needs_background": "light"
     },
     "output_type": "display_data"
    },
    {
     "data": {
      "image/png": "[encoded data removed]",
      "text/plain": [
       "<Figure size 432x288 with 1 Axes>"
      ]
     },
     "metadata": {
      "needs_background": "light"
     },
     "output_type": "display_data"
    },
    {
     "data": {
      "image/png": "[encoded data removed]",
      "text/plain": [
       "<Figure size 432x288 with 1 Axes>"
      ]
     },
     "metadata": {
      "needs_background": "light"
     },
     "output_type": "display_data"
    },
    {
     "data": {
      "image/png": "[encoded data removed]",
      "text/plain": [
       "<Figure size 432x288 with 1 Axes>"
      ]
     },
     "metadata": {
      "needs_background": "light"
     },
     "output_type": "display_data"
    },
    {
     "data": {
      "image/png": "[encoded data removed]",
      "text/plain": [
       "<Figure size 432x288 with 1 Axes>"
      ]
     },
     "metadata": {
      "needs_background": "light"
     },
     "output_type": "display_data"
    }
   ],
   "source": [
    "def _get_21_points(marks):\n",
    "    nose_point = marks[30]\n",
    "    features = (marks - nose_point)\n",
    "    d = np.abs(features[30] - features[8])\n",
    "    features = features / d\n",
    "\n",
    "    # print('nose_point =', nose_point)\n",
    "    # print('features =', features)\n",
    "    # features = np.array(features).flatten(order='F')\n",
    "    # return features.reshape(1, -1)\n",
    "    return features\n",
    "\n",
    "\n",
    "data_dir = Path('/home/ahmad/projects/python/head_pose_estimation/AFLW2000-3D/AFLW2000')\n",
    "all_imgs = glob.glob(str(data_dir / '*.mat'))\n",
    "plt.gca().invert_yaxis()\n",
    "for img in all_imgs[10:25]:\n",
    "    mat = sio.loadmat(img)\n",
    "    features = np.array(_get_21_points(mat.get('pt3d_68')[:2].T))\n",
    "\n",
    "    x = features[:, 0]\n",
    "    y = features[:, 1]\n",
    "    \n",
    "    plt.scatter(x, y)\n",
    "    plt.show()"
   ]
  },
  {
   "cell_type": "code",
   "execution_count": 18,
   "metadata": {},
   "outputs": [
    {
     "data": {
      "text/html": [
       "<div>\n",
       "<style scoped>\n",
       "    .dataframe tbody tr th:only-of-type {\n",
       "        vertical-align: middle;\n",
       "    }\n",
       "\n",
       "    .dataframe tbody tr th {\n",
       "        vertical-align: top;\n",
       "    }\n",
       "\n",
       "    .dataframe thead th {\n",
       "        text-align: right;\n",
       "    }\n",
       "</style>\n",
       "<table border=\"1\" class=\"dataframe\">\n",
       "  <thead>\n",
       "    <tr style=\"text-align: right;\">\n",
       "      <th></th>\n",
       "      <th>x1</th>\n",
       "      <th>x2</th>\n",
       "      <th>x3</th>\n",
       "      <th>x4</th>\n",
       "      <th>x5</th>\n",
       "      <th>x6</th>\n",
       "      <th>x7</th>\n",
       "      <th>x8</th>\n",
       "      <th>x9</th>\n",
       "      <th>x10</th>\n",
       "      <th>...</th>\n",
       "      <th>y13</th>\n",
       "      <th>y14</th>\n",
       "      <th>y15</th>\n",
       "      <th>y16</th>\n",
       "      <th>y17</th>\n",
       "      <th>y18</th>\n",
       "      <th>y19</th>\n",
       "      <th>pitch</th>\n",
       "      <th>yaw</th>\n",
       "      <th>roll</th>\n",
       "    </tr>\n",
       "  </thead>\n",
       "  <tbody>\n",
       "    <tr>\n",
       "      <th>image00002</th>\n",
       "      <td>-0.892009</td>\n",
       "      <td>-0.591090</td>\n",
       "      <td>-0.161206</td>\n",
       "      <td>0.354654</td>\n",
       "      <td>0.816779</td>\n",
       "      <td>1.171434</td>\n",
       "      <td>-0.655573</td>\n",
       "      <td>-0.182701</td>\n",
       "      <td>0.376148</td>\n",
       "      <td>0.870515</td>\n",
       "      <td>...</td>\n",
       "      <td>0.064483</td>\n",
       "      <td>0.290172</td>\n",
       "      <td>0.526608</td>\n",
       "      <td>0.397643</td>\n",
       "      <td>0.999480</td>\n",
       "      <td>-0.601837</td>\n",
       "      <td>-0.376148</td>\n",
       "      <td>-22.874239</td>\n",
       "      <td>1.044306</td>\n",
       "      <td>4.908885</td>\n",
       "    </tr>\n",
       "    <tr>\n",
       "      <th>image00004</th>\n",
       "      <td>-0.518030</td>\n",
       "      <td>-0.331539</td>\n",
       "      <td>-0.051803</td>\n",
       "      <td>0.341900</td>\n",
       "      <td>0.745964</td>\n",
       "      <td>1.150028</td>\n",
       "      <td>-0.383343</td>\n",
       "      <td>-0.041442</td>\n",
       "      <td>0.435146</td>\n",
       "      <td>0.849570</td>\n",
       "      <td>...</td>\n",
       "      <td>0.145049</td>\n",
       "      <td>0.414424</td>\n",
       "      <td>0.435146</td>\n",
       "      <td>0.497309</td>\n",
       "      <td>0.994618</td>\n",
       "      <td>0.000000</td>\n",
       "      <td>0.062164</td>\n",
       "      <td>26.932741</td>\n",
       "      <td>68.155235</td>\n",
       "      <td>17.243670</td>\n",
       "    </tr>\n",
       "    <tr>\n",
       "      <th>image00006</th>\n",
       "      <td>-0.171021</td>\n",
       "      <td>-0.171021</td>\n",
       "      <td>-0.020120</td>\n",
       "      <td>0.221321</td>\n",
       "      <td>0.523122</td>\n",
       "      <td>0.965763</td>\n",
       "      <td>-0.110660</td>\n",
       "      <td>0.090540</td>\n",
       "      <td>0.392341</td>\n",
       "      <td>0.724323</td>\n",
       "      <td>...</td>\n",
       "      <td>0.080480</td>\n",
       "      <td>0.352101</td>\n",
       "      <td>0.402401</td>\n",
       "      <td>0.331981</td>\n",
       "      <td>0.915463</td>\n",
       "      <td>-0.110660</td>\n",
       "      <td>-0.201201</td>\n",
       "      <td>-10.579652</td>\n",
       "      <td>50.485409</td>\n",
       "      <td>-13.570644</td>\n",
       "    </tr>\n",
       "    <tr>\n",
       "      <th>image00008</th>\n",
       "      <td>-0.697837</td>\n",
       "      <td>-0.634397</td>\n",
       "      <td>-0.338345</td>\n",
       "      <td>0.084586</td>\n",
       "      <td>0.496944</td>\n",
       "      <td>0.951595</td>\n",
       "      <td>-0.486371</td>\n",
       "      <td>-0.137453</td>\n",
       "      <td>0.274905</td>\n",
       "      <td>0.708410</td>\n",
       "      <td>...</td>\n",
       "      <td>-0.021147</td>\n",
       "      <td>0.285479</td>\n",
       "      <td>0.327772</td>\n",
       "      <td>0.126879</td>\n",
       "      <td>0.835289</td>\n",
       "      <td>-0.296052</td>\n",
       "      <td>-0.708410</td>\n",
       "      <td>-10.048455</td>\n",
       "      <td>17.143373</td>\n",
       "      <td>-21.392780</td>\n",
       "    </tr>\n",
       "    <tr>\n",
       "      <th>image00013</th>\n",
       "      <td>-0.753426</td>\n",
       "      <td>-0.541790</td>\n",
       "      <td>-0.245498</td>\n",
       "      <td>0.067724</td>\n",
       "      <td>0.364015</td>\n",
       "      <td>0.626444</td>\n",
       "      <td>-0.533324</td>\n",
       "      <td>-0.228567</td>\n",
       "      <td>0.152378</td>\n",
       "      <td>0.457135</td>\n",
       "      <td>...</td>\n",
       "      <td>0.076189</td>\n",
       "      <td>0.474066</td>\n",
       "      <td>0.414808</td>\n",
       "      <td>0.355549</td>\n",
       "      <td>0.973528</td>\n",
       "      <td>0.228567</td>\n",
       "      <td>-0.126982</td>\n",
       "      <td>-1.536199</td>\n",
       "      <td>0.685565</td>\n",
       "      <td>-12.643007</td>\n",
       "    </tr>\n",
       "  </tbody>\n",
       "</table>\n",
       "<p>5 rows × 39 columns</p>\n",
       "</div>"
      ],
      "text/plain": [
       "                  x1        x2        x3        x4        x5        x6  \\\n",
       "image00002 -0.892009 -0.591090 -0.161206  0.354654  0.816779  1.171434   \n",
       "image00004 -0.518030 -0.331539 -0.051803  0.341900  0.745964  1.150028   \n",
       "image00006 -0.171021 -0.171021 -0.020120  0.221321  0.523122  0.965763   \n",
       "image00008 -0.697837 -0.634397 -0.338345  0.084586  0.496944  0.951595   \n",
       "image00013 -0.753426 -0.541790 -0.245498  0.067724  0.364015  0.626444   \n",
       "\n",
       "                  x7        x8        x9       x10  ...       y13       y14  \\\n",
       "image00002 -0.655573 -0.182701  0.376148  0.870515  ...  0.064483  0.290172   \n",
       "image00004 -0.383343 -0.041442  0.435146  0.849570  ...  0.145049  0.414424   \n",
       "image00006 -0.110660  0.090540  0.392341  0.724323  ...  0.080480  0.352101   \n",
       "image00008 -0.486371 -0.137453  0.274905  0.708410  ... -0.021147  0.285479   \n",
       "image00013 -0.533324 -0.228567  0.152378  0.457135  ...  0.076189  0.474066   \n",
       "\n",
       "                 y15       y16       y17       y18       y19      pitch  \\\n",
       "image00002  0.526608  0.397643  0.999480 -0.601837 -0.376148 -22.874239   \n",
       "image00004  0.435146  0.497309  0.994618  0.000000  0.062164  26.932741   \n",
       "image00006  0.402401  0.331981  0.915463 -0.110660 -0.201201 -10.579652   \n",
       "image00008  0.327772  0.126879  0.835289 -0.296052 -0.708410 -10.048455   \n",
       "image00013  0.414808  0.355549  0.973528  0.228567 -0.126982  -1.536199   \n",
       "\n",
       "                  yaw       roll  \n",
       "image00002   1.044306   4.908885  \n",
       "image00004  68.155235  17.243670  \n",
       "image00006  50.485409 -13.570644  \n",
       "image00008  17.143373 -21.392780  \n",
       "image00013   0.685565 -12.643007  \n",
       "\n",
       "[5 rows x 39 columns]"
      ]
     },
     "execution_count": 18,
     "metadata": {},
     "output_type": "execute_result"
    }
   ],
   "source": [
    "# Run utils.py first as a script to generate the data frames.\n",
    "\n",
    "df_21pts = pd.read_csv('../cleaned_data_21pts.csv', index_col=0)\n",
    "df_21pts.head()"
   ]
  },
  {
   "cell_type": "code",
   "execution_count": 19,
   "metadata": {},
   "outputs": [
    {
     "data": {
      "text/html": [
       "<div>\n",
       "<style scoped>\n",
       "    .dataframe tbody tr th:only-of-type {\n",
       "        vertical-align: middle;\n",
       "    }\n",
       "\n",
       "    .dataframe tbody tr th {\n",
       "        vertical-align: top;\n",
       "    }\n",
       "\n",
       "    .dataframe thead th {\n",
       "        text-align: right;\n",
       "    }\n",
       "</style>\n",
       "<table border=\"1\" class=\"dataframe\">\n",
       "  <thead>\n",
       "    <tr style=\"text-align: right;\">\n",
       "      <th></th>\n",
       "      <th>x1</th>\n",
       "      <th>x2</th>\n",
       "      <th>x3</th>\n",
       "      <th>x4</th>\n",
       "      <th>x5</th>\n",
       "      <th>x6</th>\n",
       "      <th>x7</th>\n",
       "      <th>x8</th>\n",
       "      <th>x9</th>\n",
       "      <th>x10</th>\n",
       "      <th>...</th>\n",
       "      <th>y13</th>\n",
       "      <th>y14</th>\n",
       "      <th>y15</th>\n",
       "      <th>y16</th>\n",
       "      <th>y17</th>\n",
       "      <th>y18</th>\n",
       "      <th>y19</th>\n",
       "      <th>pitch</th>\n",
       "      <th>yaw</th>\n",
       "      <th>roll</th>\n",
       "    </tr>\n",
       "  </thead>\n",
       "  <tbody>\n",
       "    <tr>\n",
       "      <th>count</th>\n",
       "      <td>1800.000000</td>\n",
       "      <td>1800.000000</td>\n",
       "      <td>1800.000000</td>\n",
       "      <td>1800.000000</td>\n",
       "      <td>1800.000000</td>\n",
       "      <td>1800.000000</td>\n",
       "      <td>1800.000000</td>\n",
       "      <td>1800.000000</td>\n",
       "      <td>1800.000000</td>\n",
       "      <td>1800.000000</td>\n",
       "      <td>...</td>\n",
       "      <td>1800.000000</td>\n",
       "      <td>1800.000000</td>\n",
       "      <td>1800.000000</td>\n",
       "      <td>1800.000000</td>\n",
       "      <td>1800.000000</td>\n",
       "      <td>1800.000000</td>\n",
       "      <td>1800.000000</td>\n",
       "      <td>1800.000000</td>\n",
       "      <td>1800.000000</td>\n",
       "      <td>1800.000000</td>\n",
       "    </tr>\n",
       "    <tr>\n",
       "      <th>mean</th>\n",
       "      <td>-0.753716</td>\n",
       "      <td>-0.502542</td>\n",
       "      <td>-0.181636</td>\n",
       "      <td>0.178666</td>\n",
       "      <td>0.503749</td>\n",
       "      <td>0.763675</td>\n",
       "      <td>-0.553867</td>\n",
       "      <td>-0.210707</td>\n",
       "      <td>0.218990</td>\n",
       "      <td>0.565114</td>\n",
       "      <td>...</td>\n",
       "      <td>0.098477</td>\n",
       "      <td>0.399629</td>\n",
       "      <td>0.451692</td>\n",
       "      <td>0.394307</td>\n",
       "      <td>0.953265</td>\n",
       "      <td>-0.085192</td>\n",
       "      <td>-0.104431</td>\n",
       "      <td>-5.678418</td>\n",
       "      <td>1.014354</td>\n",
       "      <td>-0.748782</td>\n",
       "    </tr>\n",
       "    <tr>\n",
       "      <th>std</th>\n",
       "      <td>0.351272</td>\n",
       "      <td>0.238451</td>\n",
       "      <td>0.170048</td>\n",
       "      <td>0.172543</td>\n",
       "      <td>0.245769</td>\n",
       "      <td>0.365745</td>\n",
       "      <td>0.259923</td>\n",
       "      <td>0.189471</td>\n",
       "      <td>0.191210</td>\n",
       "      <td>0.268338</td>\n",
       "      <td>...</td>\n",
       "      <td>0.046993</td>\n",
       "      <td>0.095594</td>\n",
       "      <td>0.072770</td>\n",
       "      <td>0.102006</td>\n",
       "      <td>0.117027</td>\n",
       "      <td>0.256192</td>\n",
       "      <td>0.262830</td>\n",
       "      <td>16.668706</td>\n",
       "      <td>31.167982</td>\n",
       "      <td>18.907408</td>\n",
       "    </tr>\n",
       "    <tr>\n",
       "      <th>min</th>\n",
       "      <td>-1.705505</td>\n",
       "      <td>-1.343503</td>\n",
       "      <td>-0.919239</td>\n",
       "      <td>-0.537401</td>\n",
       "      <td>-0.830783</td>\n",
       "      <td>-1.191993</td>\n",
       "      <td>-1.248913</td>\n",
       "      <td>-0.749533</td>\n",
       "      <td>-0.565896</td>\n",
       "      <td>-0.866904</td>\n",
       "      <td>...</td>\n",
       "      <td>-0.180605</td>\n",
       "      <td>-0.469573</td>\n",
       "      <td>-0.548368</td>\n",
       "      <td>-0.626097</td>\n",
       "      <td>-0.999347</td>\n",
       "      <td>-1.129353</td>\n",
       "      <td>-1.218975</td>\n",
       "      <td>-151.041275</td>\n",
       "      <td>-95.541000</td>\n",
       "      <td>-218.903412</td>\n",
       "    </tr>\n",
       "    <tr>\n",
       "      <th>25%</th>\n",
       "      <td>-0.996104</td>\n",
       "      <td>-0.656094</td>\n",
       "      <td>-0.288484</td>\n",
       "      <td>0.080045</td>\n",
       "      <td>0.372076</td>\n",
       "      <td>0.559464</td>\n",
       "      <td>-0.733335</td>\n",
       "      <td>-0.339049</td>\n",
       "      <td>0.106338</td>\n",
       "      <td>0.418950</td>\n",
       "      <td>...</td>\n",
       "      <td>0.071838</td>\n",
       "      <td>0.349594</td>\n",
       "      <td>0.422121</td>\n",
       "      <td>0.344828</td>\n",
       "      <td>0.943097</td>\n",
       "      <td>-0.238473</td>\n",
       "      <td>-0.257492</td>\n",
       "      <td>-14.038636</td>\n",
       "      <td>-14.048275</td>\n",
       "      <td>-8.901038</td>\n",
       "    </tr>\n",
       "    <tr>\n",
       "      <th>50%</th>\n",
       "      <td>-0.802622</td>\n",
       "      <td>-0.541346</td>\n",
       "      <td>-0.194220</td>\n",
       "      <td>0.186936</td>\n",
       "      <td>0.527851</td>\n",
       "      <td>0.815053</td>\n",
       "      <td>-0.596517</td>\n",
       "      <td>-0.233843</td>\n",
       "      <td>0.239261</td>\n",
       "      <td>0.611363</td>\n",
       "      <td>...</td>\n",
       "      <td>0.103019</td>\n",
       "      <td>0.409374</td>\n",
       "      <td>0.451232</td>\n",
       "      <td>0.406916</td>\n",
       "      <td>0.982116</td>\n",
       "      <td>-0.082510</td>\n",
       "      <td>-0.085331</td>\n",
       "      <td>-7.037071</td>\n",
       "      <td>1.169819</td>\n",
       "      <td>-0.902287</td>\n",
       "    </tr>\n",
       "    <tr>\n",
       "      <th>75%</th>\n",
       "      <td>-0.552344</td>\n",
       "      <td>-0.372934</td>\n",
       "      <td>-0.083128</td>\n",
       "      <td>0.281737</td>\n",
       "      <td>0.657253</td>\n",
       "      <td>1.015044</td>\n",
       "      <td>-0.410232</td>\n",
       "      <td>-0.091408</td>\n",
       "      <td>0.350980</td>\n",
       "      <td>0.747240</td>\n",
       "      <td>...</td>\n",
       "      <td>0.129295</td>\n",
       "      <td>0.461504</td>\n",
       "      <td>0.482513</td>\n",
       "      <td>0.457716</td>\n",
       "      <td>0.996483</td>\n",
       "      <td>0.080007</td>\n",
       "      <td>0.065992</td>\n",
       "      <td>1.525558</td>\n",
       "      <td>17.029309</td>\n",
       "      <td>7.059970</td>\n",
       "    </tr>\n",
       "    <tr>\n",
       "      <th>max</th>\n",
       "      <td>0.875933</td>\n",
       "      <td>0.614160</td>\n",
       "      <td>0.489275</td>\n",
       "      <td>0.965674</td>\n",
       "      <td>1.442073</td>\n",
       "      <td>1.751089</td>\n",
       "      <td>0.644364</td>\n",
       "      <td>0.460645</td>\n",
       "      <td>0.763997</td>\n",
       "      <td>1.248939</td>\n",
       "      <td>...</td>\n",
       "      <td>0.247175</td>\n",
       "      <td>0.710389</td>\n",
       "      <td>0.729831</td>\n",
       "      <td>0.696585</td>\n",
       "      <td>1.000000</td>\n",
       "      <td>0.861346</td>\n",
       "      <td>0.732690</td>\n",
       "      <td>195.868591</td>\n",
       "      <td>85.316986</td>\n",
       "      <td>124.108765</td>\n",
       "    </tr>\n",
       "  </tbody>\n",
       "</table>\n",
       "<p>8 rows × 39 columns</p>\n",
       "</div>"
      ],
      "text/plain": [
       "                x1           x2           x3           x4           x5  \\\n",
       "count  1800.000000  1800.000000  1800.000000  1800.000000  1800.000000   \n",
       "mean     -0.753716    -0.502542    -0.181636     0.178666     0.503749   \n",
       "std       0.351272     0.238451     0.170048     0.172543     0.245769   \n",
       "min      -1.705505    -1.343503    -0.919239    -0.537401    -0.830783   \n",
       "25%      -0.996104    -0.656094    -0.288484     0.080045     0.372076   \n",
       "50%      -0.802622    -0.541346    -0.194220     0.186936     0.527851   \n",
       "75%      -0.552344    -0.372934    -0.083128     0.281737     0.657253   \n",
       "max       0.875933     0.614160     0.489275     0.965674     1.442073   \n",
       "\n",
       "                x6           x7           x8           x9          x10  ...  \\\n",
       "count  1800.000000  1800.000000  1800.000000  1800.000000  1800.000000  ...   \n",
       "mean      0.763675    -0.553867    -0.210707     0.218990     0.565114  ...   \n",
       "std       0.365745     0.259923     0.189471     0.191210     0.268338  ...   \n",
       "min      -1.191993    -1.248913    -0.749533    -0.565896    -0.866904  ...   \n",
       "25%       0.559464    -0.733335    -0.339049     0.106338     0.418950  ...   \n",
       "50%       0.815053    -0.596517    -0.233843     0.239261     0.611363  ...   \n",
       "75%       1.015044    -0.410232    -0.091408     0.350980     0.747240  ...   \n",
       "max       1.751089     0.644364     0.460645     0.763997     1.248939  ...   \n",
       "\n",
       "               y13          y14          y15          y16          y17  \\\n",
       "count  1800.000000  1800.000000  1800.000000  1800.000000  1800.000000   \n",
       "mean      0.098477     0.399629     0.451692     0.394307     0.953265   \n",
       "std       0.046993     0.095594     0.072770     0.102006     0.117027   \n",
       "min      -0.180605    -0.469573    -0.548368    -0.626097    -0.999347   \n",
       "25%       0.071838     0.349594     0.422121     0.344828     0.943097   \n",
       "50%       0.103019     0.409374     0.451232     0.406916     0.982116   \n",
       "75%       0.129295     0.461504     0.482513     0.457716     0.996483   \n",
       "max       0.247175     0.710389     0.729831     0.696585     1.000000   \n",
       "\n",
       "               y18          y19        pitch          yaw         roll  \n",
       "count  1800.000000  1800.000000  1800.000000  1800.000000  1800.000000  \n",
       "mean     -0.085192    -0.104431    -5.678418     1.014354    -0.748782  \n",
       "std       0.256192     0.262830    16.668706    31.167982    18.907408  \n",
       "min      -1.129353    -1.218975  -151.041275   -95.541000  -218.903412  \n",
       "25%      -0.238473    -0.257492   -14.038636   -14.048275    -8.901038  \n",
       "50%      -0.082510    -0.085331    -7.037071     1.169819    -0.902287  \n",
       "75%       0.080007     0.065992     1.525558    17.029309     7.059970  \n",
       "max       0.861346     0.732690   195.868591    85.316986   124.108765  \n",
       "\n",
       "[8 rows x 39 columns]"
      ]
     },
     "execution_count": 19,
     "metadata": {},
     "output_type": "execute_result"
    }
   ],
   "source": [
    "df_21pts.describe()"
   ]
  },
  {
   "cell_type": "code",
   "execution_count": 20,
   "metadata": {},
   "outputs": [],
   "source": [
    "for c in df_21pts.columns:\n",
    "    if len(df_21pts[c].unique()) == 1:\n",
    "        print(c, '=>', df_21pts[c].unique())"
   ]
  },
  {
   "cell_type": "code",
   "execution_count": 21,
   "metadata": {},
   "outputs": [
    {
     "data": {
      "text/plain": [
       "x1       -1.668772\n",
       "x2       -1.343503\n",
       "x3       -0.919239\n",
       "x4       -0.537401\n",
       "x5       -0.339411\n",
       "x6       -0.226274\n",
       "x7       -1.159655\n",
       "x8       -0.749533\n",
       "x9       -0.353553\n",
       "x10      -0.113137\n",
       "x11      -0.169706\n",
       "x13       0.127279\n",
       "x14      -0.155563\n",
       "x15       0.226274\n",
       "x16       0.424264\n",
       "x17       0.480833\n",
       "x18      -1.414214\n",
       "x19       0.169706\n",
       "y1       -0.254558\n",
       "y2       -0.452548\n",
       "y3       -0.650538\n",
       "y4       -0.961665\n",
       "y5       -1.301076\n",
       "y6       -1.470782\n",
       "y7       -0.084853\n",
       "y8       -0.325269\n",
       "y9       -0.707107\n",
       "y10      -1.018234\n",
       "y11       0.226274\n",
       "y13      -0.056569\n",
       "y14       0.636396\n",
       "y15       0.410122\n",
       "y16       0.070711\n",
       "y17       0.876812\n",
       "y18       0.452548\n",
       "y19      -0.933381\n",
       "pitch    -5.012370\n",
       "yaw     -39.333786\n",
       "roll      9.092123\n",
       "Name: image00631, dtype: float64"
      ]
     },
     "execution_count": 21,
     "metadata": {},
     "output_type": "execute_result"
    }
   ],
   "source": [
    "# df_21pts['x2'].argmin()\n",
    "df_21pts.iloc[df_21pts['x2'].argmin(), :]"
   ]
  },
  {
   "cell_type": "code",
   "execution_count": null,
   "metadata": {},
   "outputs": [],
   "source": []
  }
 ],
 "metadata": {
  "interpreter": {
   "hash": "916dbcbb3f70747c44a77c7bcd40155683ae19c65e1c03b4aa3499c5328201f1"
  },
  "kernelspec": {
   "display_name": "Python 3 (ipykernel)",
   "language": "python",
   "name": "python3"
  },
  "language_info": {
   "codemirror_mode": {
    "name": "ipython",
    "version": 3
   },
   "file_extension": ".py",
   "mimetype": "text/x-python",
   "name": "python",
   "nbconvert_exporter": "python",
   "pygments_lexer": "ipython3",
   "version": "3.8.10"
  }
 },
 "nbformat": 4,
 "nbformat_minor": 2
}
