{
 "cells": [
  {
   "cell_type": "code",
   "execution_count": 3,
   "metadata": {},
   "outputs": [],
   "source": [
    "import numpy as np\n",
    "import pandas as pd\n",
    "import dlib\n",
    "import cv2\n",
    "from imutils import face_utils\n",
    "from main import HeadPoseEstimator\n",
    "from utils import DataCleaner, split_train_dev_x_y, draw_axis"
   ]
  },
  {
   "cell_type": "code",
   "execution_count": 6,
   "metadata": {},
   "outputs": [],
   "source": [
    "np.random.seed(42)\n",
    "\n",
    "df_path = '../cleaned_data_68pts.csv'\n",
    "df = pd.read_csv(df_path, index_col=0)\n",
    "\n",
    "X_train, Y_train, X_dev, Y_dev = split_train_dev_x_y(df, train_size=0.99)\n",
    "\n",
    "model = HeadPoseEstimator()\n",
    "model = model.fit(X_train, Y_train)\n",
    "# model.report(X_train, Y_train, X_dev, Y_dev)\n"
   ]
  },
  {
   "cell_type": "code",
   "execution_count": 9,
   "metadata": {},
   "outputs": [],
   "source": [
    "# Let's go life\n",
    "detector = dlib.get_frontal_face_detector()\n",
    "predictor = dlib.shape_predictor('/home/ahmad/projects/python/head_pose_estimation/data')\n",
    "\n",
    "cap = cv2.VideoCapture(0)\n",
    "# points = {17, 19, 21, 22, 24, 26, 36, 39, 42, 45, 31, 30, 35, 48, 66, 54, 8, 2, 14}\n",
    "\n",
    "while True:\n",
    "    success, image = cap.read()\n",
    "\n",
    "    # Flip the image horizontally for a later selfie-view display\n",
    "    # Also convert the color space from BGR to RGB\n",
    "    # image = cv2.cvtColor(image, cv2.COLOR_BGR2RGB)\n",
    "\n",
    "    # To improve performance\n",
    "    # image.flags.writeable = False\n",
    "    # image = cv2.cvtColor(image, cv2.COLOR_BGR2GRAY)\n",
    "    # Get the result\n",
    "    rects = detector(image, 1)\n",
    "    # loop over the face detections\n",
    "    for rect in rects:\n",
    "        \n",
    "        # determine the facial landmarks for the face region, then\n",
    "        # convert the facial landmark (x, y)-coordinates to a NumPy\n",
    "        # array\n",
    "        shape = predictor(image, rect)\n",
    "        shape = face_utils.shape_to_np(shape)\n",
    "        nose = shape[30]\n",
    "        features = DataCleaner()._get_features(shape)\n",
    "        features = np.delete(features, [30, 98], axis=1)\n",
    "        # pitch, yaw, roll = model.predict(features)\n",
    "        # draw_axis(image, pitch, yaw, roll, nose)\n",
    "        # for n in points: # range(1, 68):\n",
    "        #     x = shape.part(n).x\n",
    "        #     y = shape.part(n).y\n",
    "        #     cv2.circle(image, (x, y), 1, (0, 255, 255), 1)\n",
    "\n",
    "    \n",
    "        \n",
    "    # To improve performance\n",
    "    # image.flags.writeable = True\n",
    "\n",
    "    # Convert the color space from RGB to BGR\n",
    "    # image = cv2.cvtColor(image, cv2.COLOR_RGB2BGR)\n",
    "    cv2.imshow(\"Face Landmarks\", image)\n",
    "\n",
    "    key = 0xFF & cv2.waitKey(1)\n",
    "    if key & 0xFF == 27: #Exit program when the user presses 'esc'\n",
    "        break\n",
    "    \n",
    "cv2.destroyAllWindows()\n",
    "cap.release()\n",
    "\n"
   ]
  },
  {
   "cell_type": "code",
   "execution_count": 19,
   "metadata": {},
   "outputs": [
    {
     "name": "stderr",
     "output_type": "stream",
     "text": [
      "OpenCV: FFMPEG: tag 0x44495658/'XVID' is not supported with codec id 12 and format 'mp4 / MP4 (MPEG-4 Part 14)'\n",
      "OpenCV: FFMPEG: fallback to use tag 0x7634706d/'mp4v'\n"
     ]
    }
   ],
   "source": [
    "cap = cv2.VideoCapture('/home/ahmad/Documents/video.mp4')\n",
    "# Obtain frame size information using get() method\n",
    "frame_width = int(cap.get(3))\n",
    "frame_height = int(cap.get(4))\n",
    "frame_size = (frame_width,frame_height)\n",
    "fps = 20\n",
    "output = cv2.VideoWriter(\n",
    "    '/home/ahmad/Documents/video_mod.mp4', \n",
    "    cv2.VideoWriter_fourcc(*'XVID'), \n",
    "    20, \n",
    "    frame_size) \n",
    "    \n",
    "# Loop until the end of the video\n",
    "i = 0\n",
    "while cap.isOpened() and i < 300:\n",
    "    i += 1\n",
    "    success, image = cap.read()\n",
    "    # Display the resulting frame\n",
    "    # cv2.imshow('Frame', image)\n",
    "    rects = detector(image, 1)\n",
    "    # loop over the face detections\n",
    "    for rect in rects:\n",
    "        # determine the facial landmarks for the face region, then\n",
    "        # convert the facial landmark (x, y)-coordinates to a NumPy\n",
    "        # array\n",
    "        shape = predictor(image, rect)\n",
    "        shape = face_utils.shape_to_np(shape)\n",
    "        nose = shape[30]\n",
    "        features = DataCleaner()._get_features(shape)\n",
    "        features = np.delete(features, [30, 98], axis=1)\n",
    "        pitch, yaw, roll = model.predict(features)\n",
    "        draw_axis(image, pitch, yaw, roll, nose)\n",
    "        output.write(image)\n",
    "\n",
    "    \n",
    "    # Display the resulting frame\n",
    "    # cv2.imshow('Frame', image)\n",
    " \n",
    " \n",
    "    key = 0xFF & cv2.waitKey(1)\n",
    "    if key & 0xFF == 27: #Exit program when the user presses 'esc'\n",
    "        break\n",
    "    \n",
    "cv2.destroyAllWindows()\n",
    "cap.release()\n",
    "output.release()\n"
   ]
  },
  {
   "cell_type": "code",
   "execution_count": null,
   "metadata": {},
   "outputs": [],
   "source": []
  }
 ],
 "metadata": {
  "interpreter": {
   "hash": "916dbcbb3f70747c44a77c7bcd40155683ae19c65e1c03b4aa3499c5328201f1"
  },
  "kernelspec": {
   "display_name": "Python 3.8.10 64-bit",
   "language": "python",
   "name": "python3"
  },
  "language_info": {
   "codemirror_mode": {
    "name": "ipython",
    "version": 3
   },
   "file_extension": ".py",
   "mimetype": "text/x-python",
   "name": "python",
   "nbconvert_exporter": "python",
   "pygments_lexer": "ipython3",
   "version": "3.8.10"
  },
  "orig_nbformat": 4
 },
 "nbformat": 4,
 "nbformat_minor": 2
}
