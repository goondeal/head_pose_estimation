{
 "cells": [
  {
   "cell_type": "code",
   "execution_count": 1,
   "metadata": {},
   "outputs": [],
   "source": [
    "import numpy as np\n",
    "import cv2\n",
    "import mediapipe as mp\n",
    "from main import HeadPoseEstimator\n",
    "from utils import DataCleaner, split_train_dev_x_y, draw_axis"
   ]
  },
  {
   "cell_type": "code",
   "execution_count": 2,
   "metadata": {},
   "outputs": [
    {
     "name": "stderr",
     "output_type": "stream",
     "text": [
      "INFO: Created TensorFlow Lite XNNPACK delegate for CPU.\n"
     ]
    },
    {
     "name": "stdout",
     "output_type": "stream",
     "text": [
      "variance ratio = 0.9971236094417085\n"
     ]
    }
   ],
   "source": [
    "np.random.seed(27)\n",
    "\n",
    "cleaner = DataCleaner(\n",
    "            '/home/ahmad/projects/python/head_pose_estimation/AFLW2000-3D/AFLW2000')\n",
    "df = cleaner.get_cleaned_df()\n",
    "X_train, Y_train, X_dev, Y_dev = split_train_dev_x_y(df, train_size=0.8)\n",
    "\n",
    "model = HeadPoseEstimator()\n",
    "model = model.fit(X_train, Y_train)\n",
    "# model.report(X_train, Y_train, X_dev, Y_dev)\n"
   ]
  },
  {
   "cell_type": "code",
   "execution_count": 3,
   "metadata": {},
   "outputs": [],
   "source": [
    "# cap = cv2.VideoCapture('/home/ahmad/Documents/da7eeh.mp4')\n",
    "# # Obtain frame size information using get() method\n",
    "# frame_width = int(cap.get(3))\n",
    "# frame_height = int(cap.get(4))\n",
    "# frame_size = (frame_width,frame_height)\n",
    "# fps = 20\n",
    "# output = cv2.VideoWriter(\n",
    "#     '/home/ahmad/Documents/da7eeh_mod.mp4', \n",
    "#     cv2.VideoWriter_fourcc(*'XVID'), \n",
    "#     20, \n",
    "#     frame_size) \n",
    "    \n",
    "# # Loop until the end of the video\n",
    "# # i = 0\n",
    "# while cap.isOpened() : # and i < 150:\n",
    "#     # i += 1\n",
    "#     success, image = cap.read()\n",
    "#     if success:\n",
    "#         faceModule = mp.solutions.face_mesh\n",
    "#         with faceModule.FaceMesh(static_image_mode=True) as faces:\n",
    "#             # loading the image\n",
    "#             results = faces.process(cv2.cvtColor(image, cv2.COLOR_BGR2RGB))\n",
    "#             if results.multi_face_landmarks: \n",
    "#                 # looping over the faces in the image\n",
    "#                 # many_faces_image_paths.append(index)\n",
    "#                 # print(image_path, len(results.multi_face_landmarks))\n",
    "#                 img_h, img_w, img_c = image.shape\n",
    "#                 for face in results.multi_face_landmarks:\n",
    "#                     features = np.array([\n",
    "#                         [\n",
    "#                             int(lm.x * img_w),\n",
    "#                             int(lm.y * img_h)\n",
    "#                         ]\n",
    "#                         for lm in face.landmark \n",
    "#                     ], dtype=np.float64)\n",
    "#                     nose = features[1]    \n",
    "#                     features = cleaner.get_features(features)\n",
    "#                     # print('features shape =', features.shape)\n",
    "#                     features = cleaner.transform(features.reshape(1, -1))\n",
    "#                     pitch, yaw, roll = model.predict(features)\n",
    "#                     draw_axis(image, pitch, yaw, roll, nose[0], nose[1])\n",
    "                \n",
    "#                 output.write(image)\n",
    " \n",
    "#         key = 0xFF & cv2.waitKey(1)\n",
    "#         if key & 0xFF == 27: #Exit program when the user presses 'esc'\n",
    "#             break\n",
    "#     else:\n",
    "#         break\n",
    "# cv2.destroyAllWindows()\n",
    "# cap.release()\n",
    "# output.release()\n"
   ]
  },
  {
   "cell_type": "code",
   "execution_count": 4,
   "metadata": {},
   "outputs": [
    {
     "name": "stderr",
     "output_type": "stream",
     "text": [
      "OpenCV: FFMPEG: tag 0x44495658/'XVID' is not supported with codec id 12 and format 'mp4 / MP4 (MPEG-4 Part 14)'\n",
      "OpenCV: FFMPEG: fallback to use tag 0x7634706d/'mp4v'\n"
     ]
    }
   ],
   "source": [
    "cap = cv2.VideoCapture(0)\n",
    "frame_width = int(cap.get(3))\n",
    "frame_height = int(cap.get(4))\n",
    "frame_size = (frame_width,frame_height)\n",
    "fps = 20\n",
    "output = cv2.VideoWriter(\n",
    "    '/home/ahmad/Documents/my_video.mp4', \n",
    "    cv2.VideoWriter_fourcc(*'XVID'), \n",
    "    20, \n",
    "    frame_size)\n",
    "while cap.isOpened():\n",
    "    success, image = cap.read()\n",
    "    if success:\n",
    "        faceModule = mp.solutions.face_mesh\n",
    "        with faceModule.FaceMesh(static_image_mode=True) as faces:\n",
    "            # loading the image\n",
    "            results = faces.process(cv2.cvtColor(image, cv2.COLOR_BGR2RGB))\n",
    "            if results.multi_face_landmarks: \n",
    "                # looping over the faces in the image\n",
    "                # many_faces_image_paths.append(index)\n",
    "                # print(image_path, len(results.multi_face_landmarks))\n",
    "                img_h, img_w, img_c = image.shape\n",
    "                for face in results.multi_face_landmarks:\n",
    "                    features = np.array([\n",
    "                        [\n",
    "                            int(lm.x * img_w),\n",
    "                            int(lm.y * img_h)\n",
    "                        ]\n",
    "                        for lm in face.landmark \n",
    "                    ], dtype=np.float64)\n",
    "                    nose = features[1].reshape(1, -1)    \n",
    "                    features = cleaner.get_features(features)\n",
    "                    features = cleaner.transform(features.reshape(1, -1))\n",
    "                    pitch, yaw, roll = model.predict(features)\n",
    "                    draw_axis(image, yaw, pitch, roll, nose[0,0], nose[0,1])\n",
    "                \n",
    "                cv2.imshow('HPE', image)\n",
    "                output.write(image)\n",
    "\n",
    "        key = 0xFF & cv2.waitKey(1)\n",
    "        if key & 0xFF == 27: #Exit program when the user presses 'esc'\n",
    "            break\n",
    "    else:\n",
    "        break\n",
    "cv2.destroyAllWindows()\n",
    "cap.release()\n",
    "output.release()\n"
   ]
  },
  {
   "cell_type": "code",
   "execution_count": null,
   "metadata": {},
   "outputs": [],
   "source": []
  }
 ],
 "metadata": {
  "interpreter": {
   "hash": "916dbcbb3f70747c44a77c7bcd40155683ae19c65e1c03b4aa3499c5328201f1"
  },
  "kernelspec": {
   "display_name": "Python 3.8.10 64-bit",
   "language": "python",
   "name": "python3"
  },
  "language_info": {
   "codemirror_mode": {
    "name": "ipython",
    "version": 3
   },
   "file_extension": ".py",
   "mimetype": "text/x-python",
   "name": "python",
   "nbconvert_exporter": "python",
   "pygments_lexer": "ipython3",
   "version": "3.8.10"
  },
  "orig_nbformat": 4
 },
 "nbformat": 4,
 "nbformat_minor": 2
}
